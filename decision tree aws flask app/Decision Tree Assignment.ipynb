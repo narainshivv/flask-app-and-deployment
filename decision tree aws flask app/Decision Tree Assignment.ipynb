{
 "cells": [
  {
   "cell_type": "code",
   "execution_count": 1,
   "metadata": {},
   "outputs": [],
   "source": [
    "import pandas as pd\n",
    "import numpy as np\n",
    "import seaborn as sns\n",
    "import matplotlib.pyplot as plt"
   ]
  },
  {
   "cell_type": "code",
   "execution_count": 2,
   "metadata": {},
   "outputs": [],
   "source": [
    "df=pd.read_csv(\"https://raw.githubusercontent.com/BigDataGal/Python-for-Data-Science/master/titanic-train.csv\")"
   ]
  },
  {
   "cell_type": "code",
   "execution_count": 3,
   "metadata": {},
   "outputs": [
    {
     "data": {
      "text/html": [
       "<div>\n",
       "<style scoped>\n",
       "    .dataframe tbody tr th:only-of-type {\n",
       "        vertical-align: middle;\n",
       "    }\n",
       "\n",
       "    .dataframe tbody tr th {\n",
       "        vertical-align: top;\n",
       "    }\n",
       "\n",
       "    .dataframe thead th {\n",
       "        text-align: right;\n",
       "    }\n",
       "</style>\n",
       "<table border=\"1\" class=\"dataframe\">\n",
       "  <thead>\n",
       "    <tr style=\"text-align: right;\">\n",
       "      <th></th>\n",
       "      <th>PassengerId</th>\n",
       "      <th>Survived</th>\n",
       "      <th>Pclass</th>\n",
       "      <th>Name</th>\n",
       "      <th>Sex</th>\n",
       "      <th>Age</th>\n",
       "      <th>SibSp</th>\n",
       "      <th>Parch</th>\n",
       "      <th>Ticket</th>\n",
       "      <th>Fare</th>\n",
       "      <th>Cabin</th>\n",
       "      <th>Embarked</th>\n",
       "    </tr>\n",
       "  </thead>\n",
       "  <tbody>\n",
       "    <tr>\n",
       "      <th>0</th>\n",
       "      <td>1</td>\n",
       "      <td>0</td>\n",
       "      <td>3</td>\n",
       "      <td>Braund, Mr. Owen Harris</td>\n",
       "      <td>male</td>\n",
       "      <td>22.0</td>\n",
       "      <td>1</td>\n",
       "      <td>0</td>\n",
       "      <td>A/5 21171</td>\n",
       "      <td>7.2500</td>\n",
       "      <td>NaN</td>\n",
       "      <td>S</td>\n",
       "    </tr>\n",
       "    <tr>\n",
       "      <th>1</th>\n",
       "      <td>2</td>\n",
       "      <td>1</td>\n",
       "      <td>1</td>\n",
       "      <td>Cumings, Mrs. John Bradley (Florence Briggs Th...</td>\n",
       "      <td>female</td>\n",
       "      <td>38.0</td>\n",
       "      <td>1</td>\n",
       "      <td>0</td>\n",
       "      <td>PC 17599</td>\n",
       "      <td>71.2833</td>\n",
       "      <td>C85</td>\n",
       "      <td>C</td>\n",
       "    </tr>\n",
       "    <tr>\n",
       "      <th>2</th>\n",
       "      <td>3</td>\n",
       "      <td>1</td>\n",
       "      <td>3</td>\n",
       "      <td>Heikkinen, Miss. Laina</td>\n",
       "      <td>female</td>\n",
       "      <td>26.0</td>\n",
       "      <td>0</td>\n",
       "      <td>0</td>\n",
       "      <td>STON/O2. 3101282</td>\n",
       "      <td>7.9250</td>\n",
       "      <td>NaN</td>\n",
       "      <td>S</td>\n",
       "    </tr>\n",
       "    <tr>\n",
       "      <th>3</th>\n",
       "      <td>4</td>\n",
       "      <td>1</td>\n",
       "      <td>1</td>\n",
       "      <td>Futrelle, Mrs. Jacques Heath (Lily May Peel)</td>\n",
       "      <td>female</td>\n",
       "      <td>35.0</td>\n",
       "      <td>1</td>\n",
       "      <td>0</td>\n",
       "      <td>113803</td>\n",
       "      <td>53.1000</td>\n",
       "      <td>C123</td>\n",
       "      <td>S</td>\n",
       "    </tr>\n",
       "    <tr>\n",
       "      <th>4</th>\n",
       "      <td>5</td>\n",
       "      <td>0</td>\n",
       "      <td>3</td>\n",
       "      <td>Allen, Mr. William Henry</td>\n",
       "      <td>male</td>\n",
       "      <td>35.0</td>\n",
       "      <td>0</td>\n",
       "      <td>0</td>\n",
       "      <td>373450</td>\n",
       "      <td>8.0500</td>\n",
       "      <td>NaN</td>\n",
       "      <td>S</td>\n",
       "    </tr>\n",
       "  </tbody>\n",
       "</table>\n",
       "</div>"
      ],
      "text/plain": [
       "   PassengerId  Survived  Pclass  \\\n",
       "0            1         0       3   \n",
       "1            2         1       1   \n",
       "2            3         1       3   \n",
       "3            4         1       1   \n",
       "4            5         0       3   \n",
       "\n",
       "                                                Name     Sex   Age  SibSp  \\\n",
       "0                            Braund, Mr. Owen Harris    male  22.0      1   \n",
       "1  Cumings, Mrs. John Bradley (Florence Briggs Th...  female  38.0      1   \n",
       "2                             Heikkinen, Miss. Laina  female  26.0      0   \n",
       "3       Futrelle, Mrs. Jacques Heath (Lily May Peel)  female  35.0      1   \n",
       "4                           Allen, Mr. William Henry    male  35.0      0   \n",
       "\n",
       "   Parch            Ticket     Fare Cabin Embarked  \n",
       "0      0         A/5 21171   7.2500   NaN        S  \n",
       "1      0          PC 17599  71.2833   C85        C  \n",
       "2      0  STON/O2. 3101282   7.9250   NaN        S  \n",
       "3      0            113803  53.1000  C123        S  \n",
       "4      0            373450   8.0500   NaN        S  "
      ]
     },
     "execution_count": 3,
     "metadata": {},
     "output_type": "execute_result"
    }
   ],
   "source": [
    "df.head()"
   ]
  },
  {
   "cell_type": "code",
   "execution_count": 4,
   "metadata": {},
   "outputs": [
    {
     "data": {
      "text/plain": [
       "(891, 12)"
      ]
     },
     "execution_count": 4,
     "metadata": {},
     "output_type": "execute_result"
    }
   ],
   "source": [
    "df.shape"
   ]
  },
  {
   "cell_type": "code",
   "execution_count": 5,
   "metadata": {},
   "outputs": [
    {
     "data": {
      "text/plain": [
       "Index(['PassengerId', 'Survived', 'Pclass', 'Name', 'Sex', 'Age', 'SibSp',\n",
       "       'Parch', 'Ticket', 'Fare', 'Cabin', 'Embarked'],\n",
       "      dtype='object')"
      ]
     },
     "execution_count": 5,
     "metadata": {},
     "output_type": "execute_result"
    }
   ],
   "source": [
    "df.columns"
   ]
  },
  {
   "cell_type": "code",
   "execution_count": 6,
   "metadata": {},
   "outputs": [
    {
     "data": {
      "text/plain": [
       "PassengerId      int64\n",
       "Survived         int64\n",
       "Pclass           int64\n",
       "Name            object\n",
       "Sex             object\n",
       "Age            float64\n",
       "SibSp            int64\n",
       "Parch            int64\n",
       "Ticket          object\n",
       "Fare           float64\n",
       "Cabin           object\n",
       "Embarked        object\n",
       "dtype: object"
      ]
     },
     "execution_count": 6,
     "metadata": {},
     "output_type": "execute_result"
    }
   ],
   "source": [
    "df.dtypes"
   ]
  },
  {
   "cell_type": "code",
   "execution_count": 7,
   "metadata": {},
   "outputs": [
    {
     "data": {
      "text/plain": [
       "PassengerId      0\n",
       "Survived         0\n",
       "Pclass           0\n",
       "Name             0\n",
       "Sex              0\n",
       "Age            177\n",
       "SibSp            0\n",
       "Parch            0\n",
       "Ticket           0\n",
       "Fare             0\n",
       "Cabin          687\n",
       "Embarked         2\n",
       "dtype: int64"
      ]
     },
     "execution_count": 7,
     "metadata": {},
     "output_type": "execute_result"
    }
   ],
   "source": [
    "df.isnull().sum()"
   ]
  },
  {
   "cell_type": "code",
   "execution_count": 8,
   "metadata": {},
   "outputs": [
    {
     "name": "stdout",
     "output_type": "stream",
     "text": [
      "<class 'pandas.core.frame.DataFrame'>\n",
      "RangeIndex: 891 entries, 0 to 890\n",
      "Data columns (total 12 columns):\n",
      " #   Column       Non-Null Count  Dtype  \n",
      "---  ------       --------------  -----  \n",
      " 0   PassengerId  891 non-null    int64  \n",
      " 1   Survived     891 non-null    int64  \n",
      " 2   Pclass       891 non-null    int64  \n",
      " 3   Name         891 non-null    object \n",
      " 4   Sex          891 non-null    object \n",
      " 5   Age          714 non-null    float64\n",
      " 6   SibSp        891 non-null    int64  \n",
      " 7   Parch        891 non-null    int64  \n",
      " 8   Ticket       891 non-null    object \n",
      " 9   Fare         891 non-null    float64\n",
      " 10  Cabin        204 non-null    object \n",
      " 11  Embarked     889 non-null    object \n",
      "dtypes: float64(2), int64(5), object(5)\n",
      "memory usage: 83.7+ KB\n"
     ]
    }
   ],
   "source": [
    "df.info()"
   ]
  },
  {
   "cell_type": "code",
   "execution_count": 9,
   "metadata": {},
   "outputs": [
    {
     "data": {
      "text/html": [
       "<div>\n",
       "<style scoped>\n",
       "    .dataframe tbody tr th:only-of-type {\n",
       "        vertical-align: middle;\n",
       "    }\n",
       "\n",
       "    .dataframe tbody tr th {\n",
       "        vertical-align: top;\n",
       "    }\n",
       "\n",
       "    .dataframe thead th {\n",
       "        text-align: right;\n",
       "    }\n",
       "</style>\n",
       "<table border=\"1\" class=\"dataframe\">\n",
       "  <thead>\n",
       "    <tr style=\"text-align: right;\">\n",
       "      <th></th>\n",
       "      <th>PassengerId</th>\n",
       "      <th>Survived</th>\n",
       "      <th>Pclass</th>\n",
       "      <th>Age</th>\n",
       "      <th>SibSp</th>\n",
       "      <th>Parch</th>\n",
       "      <th>Fare</th>\n",
       "    </tr>\n",
       "  </thead>\n",
       "  <tbody>\n",
       "    <tr>\n",
       "      <th>count</th>\n",
       "      <td>891.000000</td>\n",
       "      <td>891.000000</td>\n",
       "      <td>891.000000</td>\n",
       "      <td>714.000000</td>\n",
       "      <td>891.000000</td>\n",
       "      <td>891.000000</td>\n",
       "      <td>891.000000</td>\n",
       "    </tr>\n",
       "    <tr>\n",
       "      <th>mean</th>\n",
       "      <td>446.000000</td>\n",
       "      <td>0.383838</td>\n",
       "      <td>2.308642</td>\n",
       "      <td>29.699118</td>\n",
       "      <td>0.523008</td>\n",
       "      <td>0.381594</td>\n",
       "      <td>32.204208</td>\n",
       "    </tr>\n",
       "    <tr>\n",
       "      <th>std</th>\n",
       "      <td>257.353842</td>\n",
       "      <td>0.486592</td>\n",
       "      <td>0.836071</td>\n",
       "      <td>14.526497</td>\n",
       "      <td>1.102743</td>\n",
       "      <td>0.806057</td>\n",
       "      <td>49.693429</td>\n",
       "    </tr>\n",
       "    <tr>\n",
       "      <th>min</th>\n",
       "      <td>1.000000</td>\n",
       "      <td>0.000000</td>\n",
       "      <td>1.000000</td>\n",
       "      <td>0.420000</td>\n",
       "      <td>0.000000</td>\n",
       "      <td>0.000000</td>\n",
       "      <td>0.000000</td>\n",
       "    </tr>\n",
       "    <tr>\n",
       "      <th>25%</th>\n",
       "      <td>223.500000</td>\n",
       "      <td>0.000000</td>\n",
       "      <td>2.000000</td>\n",
       "      <td>20.125000</td>\n",
       "      <td>0.000000</td>\n",
       "      <td>0.000000</td>\n",
       "      <td>7.910400</td>\n",
       "    </tr>\n",
       "    <tr>\n",
       "      <th>50%</th>\n",
       "      <td>446.000000</td>\n",
       "      <td>0.000000</td>\n",
       "      <td>3.000000</td>\n",
       "      <td>28.000000</td>\n",
       "      <td>0.000000</td>\n",
       "      <td>0.000000</td>\n",
       "      <td>14.454200</td>\n",
       "    </tr>\n",
       "    <tr>\n",
       "      <th>75%</th>\n",
       "      <td>668.500000</td>\n",
       "      <td>1.000000</td>\n",
       "      <td>3.000000</td>\n",
       "      <td>38.000000</td>\n",
       "      <td>1.000000</td>\n",
       "      <td>0.000000</td>\n",
       "      <td>31.000000</td>\n",
       "    </tr>\n",
       "    <tr>\n",
       "      <th>max</th>\n",
       "      <td>891.000000</td>\n",
       "      <td>1.000000</td>\n",
       "      <td>3.000000</td>\n",
       "      <td>80.000000</td>\n",
       "      <td>8.000000</td>\n",
       "      <td>6.000000</td>\n",
       "      <td>512.329200</td>\n",
       "    </tr>\n",
       "  </tbody>\n",
       "</table>\n",
       "</div>"
      ],
      "text/plain": [
       "       PassengerId    Survived      Pclass         Age       SibSp  \\\n",
       "count   891.000000  891.000000  891.000000  714.000000  891.000000   \n",
       "mean    446.000000    0.383838    2.308642   29.699118    0.523008   \n",
       "std     257.353842    0.486592    0.836071   14.526497    1.102743   \n",
       "min       1.000000    0.000000    1.000000    0.420000    0.000000   \n",
       "25%     223.500000    0.000000    2.000000   20.125000    0.000000   \n",
       "50%     446.000000    0.000000    3.000000   28.000000    0.000000   \n",
       "75%     668.500000    1.000000    3.000000   38.000000    1.000000   \n",
       "max     891.000000    1.000000    3.000000   80.000000    8.000000   \n",
       "\n",
       "            Parch        Fare  \n",
       "count  891.000000  891.000000  \n",
       "mean     0.381594   32.204208  \n",
       "std      0.806057   49.693429  \n",
       "min      0.000000    0.000000  \n",
       "25%      0.000000    7.910400  \n",
       "50%      0.000000   14.454200  \n",
       "75%      0.000000   31.000000  \n",
       "max      6.000000  512.329200  "
      ]
     },
     "execution_count": 9,
     "metadata": {},
     "output_type": "execute_result"
    }
   ],
   "source": [
    "df.describe()"
   ]
  },
  {
   "cell_type": "code",
   "execution_count": 10,
   "metadata": {},
   "outputs": [
    {
     "data": {
      "text/plain": [
       "PassengerId      0\n",
       "Survived         0\n",
       "Pclass           0\n",
       "Name             0\n",
       "Sex              0\n",
       "Age            177\n",
       "SibSp            0\n",
       "Parch            0\n",
       "Ticket           0\n",
       "Fare             0\n",
       "Cabin          687\n",
       "Embarked         2\n",
       "dtype: int64"
      ]
     },
     "execution_count": 10,
     "metadata": {},
     "output_type": "execute_result"
    }
   ],
   "source": [
    "df.isnull().sum()"
   ]
  },
  {
   "cell_type": "markdown",
   "metadata": {},
   "source": [
    "### First we will try to handle missing values"
   ]
  },
  {
   "cell_type": "code",
   "execution_count": 11,
   "metadata": {},
   "outputs": [
    {
     "data": {
      "text/plain": [
       "29.69911764705882"
      ]
     },
     "execution_count": 11,
     "metadata": {},
     "output_type": "execute_result"
    }
   ],
   "source": [
    "df['Age'].mean()"
   ]
  },
  {
   "cell_type": "code",
   "execution_count": 12,
   "metadata": {},
   "outputs": [],
   "source": [
    "df['Age'] = df['Age'].fillna(df['Age'].mean())"
   ]
  },
  {
   "cell_type": "code",
   "execution_count": 13,
   "metadata": {},
   "outputs": [
    {
     "data": {
      "text/plain": [
       "PassengerId      0\n",
       "Survived         0\n",
       "Pclass           0\n",
       "Name             0\n",
       "Sex              0\n",
       "Age              0\n",
       "SibSp            0\n",
       "Parch            0\n",
       "Ticket           0\n",
       "Fare             0\n",
       "Cabin          687\n",
       "Embarked         2\n",
       "dtype: int64"
      ]
     },
     "execution_count": 13,
     "metadata": {},
     "output_type": "execute_result"
    }
   ],
   "source": [
    "df.isnull().sum()"
   ]
  },
  {
   "cell_type": "markdown",
   "metadata": {},
   "source": [
    "### If we observe cabin Feature it doesnt give any usefull insight so we will drop this feature."
   ]
  },
  {
   "cell_type": "code",
   "execution_count": 14,
   "metadata": {},
   "outputs": [],
   "source": [
    "df.drop('Cabin',axis=1, inplace=True)"
   ]
  },
  {
   "cell_type": "code",
   "execution_count": 15,
   "metadata": {},
   "outputs": [
    {
     "data": {
      "text/plain": [
       "PassengerId    0\n",
       "Survived       0\n",
       "Pclass         0\n",
       "Name           0\n",
       "Sex            0\n",
       "Age            0\n",
       "SibSp          0\n",
       "Parch          0\n",
       "Ticket         0\n",
       "Fare           0\n",
       "Embarked       2\n",
       "dtype: int64"
      ]
     },
     "execution_count": 15,
     "metadata": {},
     "output_type": "execute_result"
    }
   ],
   "source": [
    "df.isnull().sum()"
   ]
  },
  {
   "cell_type": "code",
   "execution_count": 16,
   "metadata": {},
   "outputs": [
    {
     "data": {
      "text/plain": [
       "array(['S', 'C', 'Q', nan], dtype=object)"
      ]
     },
     "execution_count": 16,
     "metadata": {},
     "output_type": "execute_result"
    }
   ],
   "source": [
    "df['Embarked'].unique()"
   ]
  },
  {
   "cell_type": "code",
   "execution_count": 17,
   "metadata": {},
   "outputs": [
    {
     "data": {
      "text/plain": [
       "<bound method IndexOpsMixin.value_counts of 0      S\n",
       "1      C\n",
       "2      S\n",
       "3      S\n",
       "4      S\n",
       "      ..\n",
       "886    S\n",
       "887    S\n",
       "888    S\n",
       "889    C\n",
       "890    Q\n",
       "Name: Embarked, Length: 891, dtype: object>"
      ]
     },
     "execution_count": 17,
     "metadata": {},
     "output_type": "execute_result"
    }
   ],
   "source": [
    "df['Embarked'].value_counts"
   ]
  },
  {
   "cell_type": "code",
   "execution_count": 18,
   "metadata": {},
   "outputs": [
    {
     "data": {
      "text/plain": [
       "['S', 'C', 'S', 'S', 'S', ..., 'S', 'S', 'S', 'C', 'Q']\n",
       "Length: 891\n",
       "Categories (3, object): ['C', 'Q', 'S']"
      ]
     },
     "execution_count": 18,
     "metadata": {},
     "output_type": "execute_result"
    }
   ],
   "source": [
    "pd.Categorical(df['Embarked'])"
   ]
  },
  {
   "cell_type": "code",
   "execution_count": 19,
   "metadata": {},
   "outputs": [],
   "source": [
    "df['Embarked'] = df['Embarked'].fillna('S')"
   ]
  },
  {
   "cell_type": "code",
   "execution_count": 20,
   "metadata": {},
   "outputs": [
    {
     "data": {
      "text/plain": [
       "PassengerId    0\n",
       "Survived       0\n",
       "Pclass         0\n",
       "Name           0\n",
       "Sex            0\n",
       "Age            0\n",
       "SibSp          0\n",
       "Parch          0\n",
       "Ticket         0\n",
       "Fare           0\n",
       "Embarked       0\n",
       "dtype: int64"
      ]
     },
     "execution_count": 20,
     "metadata": {},
     "output_type": "execute_result"
    }
   ],
   "source": [
    "df.isnull().sum()"
   ]
  },
  {
   "cell_type": "code",
   "execution_count": 21,
   "metadata": {},
   "outputs": [],
   "source": [
    "df['Alone'] = df.Parch + df.SibSp"
   ]
  },
  {
   "cell_type": "code",
   "execution_count": 22,
   "metadata": {},
   "outputs": [
    {
     "name": "stderr",
     "output_type": "stream",
     "text": [
      "C:\\Users\\Dell\\anaconda3\\lib\\site-packages\\pandas\\core\\indexing.py:670: SettingWithCopyWarning: \n",
      "A value is trying to be set on a copy of a slice from a DataFrame\n",
      "\n",
      "See the caveats in the documentation: https://pandas.pydata.org/pandas-docs/stable/user_guide/indexing.html#returning-a-view-versus-a-copy\n",
      "  iloc._setitem_with_indexer(indexer, value)\n"
     ]
    }
   ],
   "source": [
    "df['Alone'].loc[df['Alone']>0] = 'With Family'\n",
    "df['Alone'].loc[df['Alone'] == 0] = 'Without Family'"
   ]
  },
  {
   "cell_type": "code",
   "execution_count": 23,
   "metadata": {},
   "outputs": [
    {
     "data": {
      "text/html": [
       "<div>\n",
       "<style scoped>\n",
       "    .dataframe tbody tr th:only-of-type {\n",
       "        vertical-align: middle;\n",
       "    }\n",
       "\n",
       "    .dataframe tbody tr th {\n",
       "        vertical-align: top;\n",
       "    }\n",
       "\n",
       "    .dataframe thead th {\n",
       "        text-align: right;\n",
       "    }\n",
       "</style>\n",
       "<table border=\"1\" class=\"dataframe\">\n",
       "  <thead>\n",
       "    <tr style=\"text-align: right;\">\n",
       "      <th></th>\n",
       "      <th>PassengerId</th>\n",
       "      <th>Survived</th>\n",
       "      <th>Pclass</th>\n",
       "      <th>Name</th>\n",
       "      <th>Sex</th>\n",
       "      <th>Age</th>\n",
       "      <th>SibSp</th>\n",
       "      <th>Parch</th>\n",
       "      <th>Ticket</th>\n",
       "      <th>Fare</th>\n",
       "      <th>Embarked</th>\n",
       "      <th>Alone</th>\n",
       "    </tr>\n",
       "  </thead>\n",
       "  <tbody>\n",
       "    <tr>\n",
       "      <th>0</th>\n",
       "      <td>1</td>\n",
       "      <td>0</td>\n",
       "      <td>3</td>\n",
       "      <td>Braund, Mr. Owen Harris</td>\n",
       "      <td>male</td>\n",
       "      <td>22.0</td>\n",
       "      <td>1</td>\n",
       "      <td>0</td>\n",
       "      <td>A/5 21171</td>\n",
       "      <td>7.2500</td>\n",
       "      <td>S</td>\n",
       "      <td>With Family</td>\n",
       "    </tr>\n",
       "    <tr>\n",
       "      <th>1</th>\n",
       "      <td>2</td>\n",
       "      <td>1</td>\n",
       "      <td>1</td>\n",
       "      <td>Cumings, Mrs. John Bradley (Florence Briggs Th...</td>\n",
       "      <td>female</td>\n",
       "      <td>38.0</td>\n",
       "      <td>1</td>\n",
       "      <td>0</td>\n",
       "      <td>PC 17599</td>\n",
       "      <td>71.2833</td>\n",
       "      <td>C</td>\n",
       "      <td>With Family</td>\n",
       "    </tr>\n",
       "    <tr>\n",
       "      <th>2</th>\n",
       "      <td>3</td>\n",
       "      <td>1</td>\n",
       "      <td>3</td>\n",
       "      <td>Heikkinen, Miss. Laina</td>\n",
       "      <td>female</td>\n",
       "      <td>26.0</td>\n",
       "      <td>0</td>\n",
       "      <td>0</td>\n",
       "      <td>STON/O2. 3101282</td>\n",
       "      <td>7.9250</td>\n",
       "      <td>S</td>\n",
       "      <td>Without Family</td>\n",
       "    </tr>\n",
       "    <tr>\n",
       "      <th>3</th>\n",
       "      <td>4</td>\n",
       "      <td>1</td>\n",
       "      <td>1</td>\n",
       "      <td>Futrelle, Mrs. Jacques Heath (Lily May Peel)</td>\n",
       "      <td>female</td>\n",
       "      <td>35.0</td>\n",
       "      <td>1</td>\n",
       "      <td>0</td>\n",
       "      <td>113803</td>\n",
       "      <td>53.1000</td>\n",
       "      <td>S</td>\n",
       "      <td>With Family</td>\n",
       "    </tr>\n",
       "    <tr>\n",
       "      <th>4</th>\n",
       "      <td>5</td>\n",
       "      <td>0</td>\n",
       "      <td>3</td>\n",
       "      <td>Allen, Mr. William Henry</td>\n",
       "      <td>male</td>\n",
       "      <td>35.0</td>\n",
       "      <td>0</td>\n",
       "      <td>0</td>\n",
       "      <td>373450</td>\n",
       "      <td>8.0500</td>\n",
       "      <td>S</td>\n",
       "      <td>Without Family</td>\n",
       "    </tr>\n",
       "  </tbody>\n",
       "</table>\n",
       "</div>"
      ],
      "text/plain": [
       "   PassengerId  Survived  Pclass  \\\n",
       "0            1         0       3   \n",
       "1            2         1       1   \n",
       "2            3         1       3   \n",
       "3            4         1       1   \n",
       "4            5         0       3   \n",
       "\n",
       "                                                Name     Sex   Age  SibSp  \\\n",
       "0                            Braund, Mr. Owen Harris    male  22.0      1   \n",
       "1  Cumings, Mrs. John Bradley (Florence Briggs Th...  female  38.0      1   \n",
       "2                             Heikkinen, Miss. Laina  female  26.0      0   \n",
       "3       Futrelle, Mrs. Jacques Heath (Lily May Peel)  female  35.0      1   \n",
       "4                           Allen, Mr. William Henry    male  35.0      0   \n",
       "\n",
       "   Parch            Ticket     Fare Embarked           Alone  \n",
       "0      0         A/5 21171   7.2500        S     With Family  \n",
       "1      0          PC 17599  71.2833        C     With Family  \n",
       "2      0  STON/O2. 3101282   7.9250        S  Without Family  \n",
       "3      0            113803  53.1000        S     With Family  \n",
       "4      0            373450   8.0500        S  Without Family  "
      ]
     },
     "execution_count": 23,
     "metadata": {},
     "output_type": "execute_result"
    }
   ],
   "source": [
    "df.head()"
   ]
  },
  {
   "cell_type": "code",
   "execution_count": 24,
   "metadata": {},
   "outputs": [
    {
     "data": {
      "text/plain": [
       "[3, 1, 3, 1, 3, ..., 2, 1, 3, 1, 3]\n",
       "Length: 891\n",
       "Categories (3, int64): [1, 2, 3]"
      ]
     },
     "execution_count": 24,
     "metadata": {},
     "output_type": "execute_result"
    }
   ],
   "source": [
    "pd.Categorical(df['Pclass'])"
   ]
  },
  {
   "cell_type": "code",
   "execution_count": 25,
   "metadata": {},
   "outputs": [
    {
     "data": {
      "text/plain": [
       "['male', 'female', 'female', 'female', 'male', ..., 'male', 'female', 'female', 'male', 'male']\n",
       "Length: 891\n",
       "Categories (2, object): ['female', 'male']"
      ]
     },
     "execution_count": 25,
     "metadata": {},
     "output_type": "execute_result"
    }
   ],
   "source": [
    "pd.Categorical(df['Sex'])"
   ]
  },
  {
   "cell_type": "code",
   "execution_count": 26,
   "metadata": {},
   "outputs": [],
   "source": [
    "person_dummies = pd.get_dummies(df['Sex'])\n",
    "alone_dummies = pd.get_dummies(df['Alone'])\n",
    "embarked_dummies = pd.get_dummies(df['Embarked'])"
   ]
  },
  {
   "cell_type": "code",
   "execution_count": 27,
   "metadata": {},
   "outputs": [],
   "source": [
    "Main_df = pd.concat([df,person_dummies,alone_dummies,embarked_dummies],axis=1)"
   ]
  },
  {
   "cell_type": "code",
   "execution_count": 28,
   "metadata": {},
   "outputs": [
    {
     "data": {
      "text/html": [
       "<div>\n",
       "<style scoped>\n",
       "    .dataframe tbody tr th:only-of-type {\n",
       "        vertical-align: middle;\n",
       "    }\n",
       "\n",
       "    .dataframe tbody tr th {\n",
       "        vertical-align: top;\n",
       "    }\n",
       "\n",
       "    .dataframe thead th {\n",
       "        text-align: right;\n",
       "    }\n",
       "</style>\n",
       "<table border=\"1\" class=\"dataframe\">\n",
       "  <thead>\n",
       "    <tr style=\"text-align: right;\">\n",
       "      <th></th>\n",
       "      <th>PassengerId</th>\n",
       "      <th>Survived</th>\n",
       "      <th>Pclass</th>\n",
       "      <th>Name</th>\n",
       "      <th>Sex</th>\n",
       "      <th>Age</th>\n",
       "      <th>SibSp</th>\n",
       "      <th>Parch</th>\n",
       "      <th>Ticket</th>\n",
       "      <th>Fare</th>\n",
       "      <th>Embarked</th>\n",
       "      <th>Alone</th>\n",
       "      <th>female</th>\n",
       "      <th>male</th>\n",
       "      <th>With Family</th>\n",
       "      <th>Without Family</th>\n",
       "      <th>C</th>\n",
       "      <th>Q</th>\n",
       "      <th>S</th>\n",
       "    </tr>\n",
       "  </thead>\n",
       "  <tbody>\n",
       "    <tr>\n",
       "      <th>0</th>\n",
       "      <td>1</td>\n",
       "      <td>0</td>\n",
       "      <td>3</td>\n",
       "      <td>Braund, Mr. Owen Harris</td>\n",
       "      <td>male</td>\n",
       "      <td>22.0</td>\n",
       "      <td>1</td>\n",
       "      <td>0</td>\n",
       "      <td>A/5 21171</td>\n",
       "      <td>7.2500</td>\n",
       "      <td>S</td>\n",
       "      <td>With Family</td>\n",
       "      <td>0</td>\n",
       "      <td>1</td>\n",
       "      <td>1</td>\n",
       "      <td>0</td>\n",
       "      <td>0</td>\n",
       "      <td>0</td>\n",
       "      <td>1</td>\n",
       "    </tr>\n",
       "    <tr>\n",
       "      <th>1</th>\n",
       "      <td>2</td>\n",
       "      <td>1</td>\n",
       "      <td>1</td>\n",
       "      <td>Cumings, Mrs. John Bradley (Florence Briggs Th...</td>\n",
       "      <td>female</td>\n",
       "      <td>38.0</td>\n",
       "      <td>1</td>\n",
       "      <td>0</td>\n",
       "      <td>PC 17599</td>\n",
       "      <td>71.2833</td>\n",
       "      <td>C</td>\n",
       "      <td>With Family</td>\n",
       "      <td>1</td>\n",
       "      <td>0</td>\n",
       "      <td>1</td>\n",
       "      <td>0</td>\n",
       "      <td>1</td>\n",
       "      <td>0</td>\n",
       "      <td>0</td>\n",
       "    </tr>\n",
       "    <tr>\n",
       "      <th>2</th>\n",
       "      <td>3</td>\n",
       "      <td>1</td>\n",
       "      <td>3</td>\n",
       "      <td>Heikkinen, Miss. Laina</td>\n",
       "      <td>female</td>\n",
       "      <td>26.0</td>\n",
       "      <td>0</td>\n",
       "      <td>0</td>\n",
       "      <td>STON/O2. 3101282</td>\n",
       "      <td>7.9250</td>\n",
       "      <td>S</td>\n",
       "      <td>Without Family</td>\n",
       "      <td>1</td>\n",
       "      <td>0</td>\n",
       "      <td>0</td>\n",
       "      <td>1</td>\n",
       "      <td>0</td>\n",
       "      <td>0</td>\n",
       "      <td>1</td>\n",
       "    </tr>\n",
       "    <tr>\n",
       "      <th>3</th>\n",
       "      <td>4</td>\n",
       "      <td>1</td>\n",
       "      <td>1</td>\n",
       "      <td>Futrelle, Mrs. Jacques Heath (Lily May Peel)</td>\n",
       "      <td>female</td>\n",
       "      <td>35.0</td>\n",
       "      <td>1</td>\n",
       "      <td>0</td>\n",
       "      <td>113803</td>\n",
       "      <td>53.1000</td>\n",
       "      <td>S</td>\n",
       "      <td>With Family</td>\n",
       "      <td>1</td>\n",
       "      <td>0</td>\n",
       "      <td>1</td>\n",
       "      <td>0</td>\n",
       "      <td>0</td>\n",
       "      <td>0</td>\n",
       "      <td>1</td>\n",
       "    </tr>\n",
       "    <tr>\n",
       "      <th>4</th>\n",
       "      <td>5</td>\n",
       "      <td>0</td>\n",
       "      <td>3</td>\n",
       "      <td>Allen, Mr. William Henry</td>\n",
       "      <td>male</td>\n",
       "      <td>35.0</td>\n",
       "      <td>0</td>\n",
       "      <td>0</td>\n",
       "      <td>373450</td>\n",
       "      <td>8.0500</td>\n",
       "      <td>S</td>\n",
       "      <td>Without Family</td>\n",
       "      <td>0</td>\n",
       "      <td>1</td>\n",
       "      <td>0</td>\n",
       "      <td>1</td>\n",
       "      <td>0</td>\n",
       "      <td>0</td>\n",
       "      <td>1</td>\n",
       "    </tr>\n",
       "  </tbody>\n",
       "</table>\n",
       "</div>"
      ],
      "text/plain": [
       "   PassengerId  Survived  Pclass  \\\n",
       "0            1         0       3   \n",
       "1            2         1       1   \n",
       "2            3         1       3   \n",
       "3            4         1       1   \n",
       "4            5         0       3   \n",
       "\n",
       "                                                Name     Sex   Age  SibSp  \\\n",
       "0                            Braund, Mr. Owen Harris    male  22.0      1   \n",
       "1  Cumings, Mrs. John Bradley (Florence Briggs Th...  female  38.0      1   \n",
       "2                             Heikkinen, Miss. Laina  female  26.0      0   \n",
       "3       Futrelle, Mrs. Jacques Heath (Lily May Peel)  female  35.0      1   \n",
       "4                           Allen, Mr. William Henry    male  35.0      0   \n",
       "\n",
       "   Parch            Ticket     Fare Embarked           Alone  female  male  \\\n",
       "0      0         A/5 21171   7.2500        S     With Family       0     1   \n",
       "1      0          PC 17599  71.2833        C     With Family       1     0   \n",
       "2      0  STON/O2. 3101282   7.9250        S  Without Family       1     0   \n",
       "3      0            113803  53.1000        S     With Family       1     0   \n",
       "4      0            373450   8.0500        S  Without Family       0     1   \n",
       "\n",
       "   With Family  Without Family  C  Q  S  \n",
       "0            1               0  0  0  1  \n",
       "1            1               0  1  0  0  \n",
       "2            0               1  0  0  1  \n",
       "3            1               0  0  0  1  \n",
       "4            0               1  0  0  1  "
      ]
     },
     "execution_count": 28,
     "metadata": {},
     "output_type": "execute_result"
    }
   ],
   "source": [
    "Main_df.head()"
   ]
  },
  {
   "cell_type": "code",
   "execution_count": 29,
   "metadata": {},
   "outputs": [],
   "source": [
    "Main_df.drop(['PassengerId','Name','SibSp','Parch','Ticket','Embarked'],axis=1,inplace=True)"
   ]
  },
  {
   "cell_type": "code",
   "execution_count": 30,
   "metadata": {},
   "outputs": [
    {
     "data": {
      "text/html": [
       "<div>\n",
       "<style scoped>\n",
       "    .dataframe tbody tr th:only-of-type {\n",
       "        vertical-align: middle;\n",
       "    }\n",
       "\n",
       "    .dataframe tbody tr th {\n",
       "        vertical-align: top;\n",
       "    }\n",
       "\n",
       "    .dataframe thead th {\n",
       "        text-align: right;\n",
       "    }\n",
       "</style>\n",
       "<table border=\"1\" class=\"dataframe\">\n",
       "  <thead>\n",
       "    <tr style=\"text-align: right;\">\n",
       "      <th></th>\n",
       "      <th>Survived</th>\n",
       "      <th>Pclass</th>\n",
       "      <th>Sex</th>\n",
       "      <th>Age</th>\n",
       "      <th>Fare</th>\n",
       "      <th>Alone</th>\n",
       "      <th>female</th>\n",
       "      <th>male</th>\n",
       "      <th>With Family</th>\n",
       "      <th>Without Family</th>\n",
       "      <th>C</th>\n",
       "      <th>Q</th>\n",
       "      <th>S</th>\n",
       "    </tr>\n",
       "  </thead>\n",
       "  <tbody>\n",
       "    <tr>\n",
       "      <th>0</th>\n",
       "      <td>0</td>\n",
       "      <td>3</td>\n",
       "      <td>male</td>\n",
       "      <td>22.0</td>\n",
       "      <td>7.2500</td>\n",
       "      <td>With Family</td>\n",
       "      <td>0</td>\n",
       "      <td>1</td>\n",
       "      <td>1</td>\n",
       "      <td>0</td>\n",
       "      <td>0</td>\n",
       "      <td>0</td>\n",
       "      <td>1</td>\n",
       "    </tr>\n",
       "    <tr>\n",
       "      <th>1</th>\n",
       "      <td>1</td>\n",
       "      <td>1</td>\n",
       "      <td>female</td>\n",
       "      <td>38.0</td>\n",
       "      <td>71.2833</td>\n",
       "      <td>With Family</td>\n",
       "      <td>1</td>\n",
       "      <td>0</td>\n",
       "      <td>1</td>\n",
       "      <td>0</td>\n",
       "      <td>1</td>\n",
       "      <td>0</td>\n",
       "      <td>0</td>\n",
       "    </tr>\n",
       "    <tr>\n",
       "      <th>2</th>\n",
       "      <td>1</td>\n",
       "      <td>3</td>\n",
       "      <td>female</td>\n",
       "      <td>26.0</td>\n",
       "      <td>7.9250</td>\n",
       "      <td>Without Family</td>\n",
       "      <td>1</td>\n",
       "      <td>0</td>\n",
       "      <td>0</td>\n",
       "      <td>1</td>\n",
       "      <td>0</td>\n",
       "      <td>0</td>\n",
       "      <td>1</td>\n",
       "    </tr>\n",
       "    <tr>\n",
       "      <th>3</th>\n",
       "      <td>1</td>\n",
       "      <td>1</td>\n",
       "      <td>female</td>\n",
       "      <td>35.0</td>\n",
       "      <td>53.1000</td>\n",
       "      <td>With Family</td>\n",
       "      <td>1</td>\n",
       "      <td>0</td>\n",
       "      <td>1</td>\n",
       "      <td>0</td>\n",
       "      <td>0</td>\n",
       "      <td>0</td>\n",
       "      <td>1</td>\n",
       "    </tr>\n",
       "    <tr>\n",
       "      <th>4</th>\n",
       "      <td>0</td>\n",
       "      <td>3</td>\n",
       "      <td>male</td>\n",
       "      <td>35.0</td>\n",
       "      <td>8.0500</td>\n",
       "      <td>Without Family</td>\n",
       "      <td>0</td>\n",
       "      <td>1</td>\n",
       "      <td>0</td>\n",
       "      <td>1</td>\n",
       "      <td>0</td>\n",
       "      <td>0</td>\n",
       "      <td>1</td>\n",
       "    </tr>\n",
       "  </tbody>\n",
       "</table>\n",
       "</div>"
      ],
      "text/plain": [
       "   Survived  Pclass     Sex   Age     Fare           Alone  female  male  \\\n",
       "0         0       3    male  22.0   7.2500     With Family       0     1   \n",
       "1         1       1  female  38.0  71.2833     With Family       1     0   \n",
       "2         1       3  female  26.0   7.9250  Without Family       1     0   \n",
       "3         1       1  female  35.0  53.1000     With Family       1     0   \n",
       "4         0       3    male  35.0   8.0500  Without Family       0     1   \n",
       "\n",
       "   With Family  Without Family  C  Q  S  \n",
       "0            1               0  0  0  1  \n",
       "1            1               0  1  0  0  \n",
       "2            0               1  0  0  1  \n",
       "3            1               0  0  0  1  \n",
       "4            0               1  0  0  1  "
      ]
     },
     "execution_count": 30,
     "metadata": {},
     "output_type": "execute_result"
    }
   ],
   "source": [
    "Main_df.head()"
   ]
  },
  {
   "cell_type": "code",
   "execution_count": 31,
   "metadata": {},
   "outputs": [],
   "source": [
    "Main_df.drop(['Sex','Alone'],axis=1,inplace=True)"
   ]
  },
  {
   "cell_type": "code",
   "execution_count": 32,
   "metadata": {},
   "outputs": [
    {
     "data": {
      "text/html": [
       "<div>\n",
       "<style scoped>\n",
       "    .dataframe tbody tr th:only-of-type {\n",
       "        vertical-align: middle;\n",
       "    }\n",
       "\n",
       "    .dataframe tbody tr th {\n",
       "        vertical-align: top;\n",
       "    }\n",
       "\n",
       "    .dataframe thead th {\n",
       "        text-align: right;\n",
       "    }\n",
       "</style>\n",
       "<table border=\"1\" class=\"dataframe\">\n",
       "  <thead>\n",
       "    <tr style=\"text-align: right;\">\n",
       "      <th></th>\n",
       "      <th>Survived</th>\n",
       "      <th>Pclass</th>\n",
       "      <th>Age</th>\n",
       "      <th>Fare</th>\n",
       "      <th>female</th>\n",
       "      <th>male</th>\n",
       "      <th>With Family</th>\n",
       "      <th>Without Family</th>\n",
       "      <th>C</th>\n",
       "      <th>Q</th>\n",
       "      <th>S</th>\n",
       "    </tr>\n",
       "  </thead>\n",
       "  <tbody>\n",
       "    <tr>\n",
       "      <th>0</th>\n",
       "      <td>0</td>\n",
       "      <td>3</td>\n",
       "      <td>22.0</td>\n",
       "      <td>7.2500</td>\n",
       "      <td>0</td>\n",
       "      <td>1</td>\n",
       "      <td>1</td>\n",
       "      <td>0</td>\n",
       "      <td>0</td>\n",
       "      <td>0</td>\n",
       "      <td>1</td>\n",
       "    </tr>\n",
       "    <tr>\n",
       "      <th>1</th>\n",
       "      <td>1</td>\n",
       "      <td>1</td>\n",
       "      <td>38.0</td>\n",
       "      <td>71.2833</td>\n",
       "      <td>1</td>\n",
       "      <td>0</td>\n",
       "      <td>1</td>\n",
       "      <td>0</td>\n",
       "      <td>1</td>\n",
       "      <td>0</td>\n",
       "      <td>0</td>\n",
       "    </tr>\n",
       "    <tr>\n",
       "      <th>2</th>\n",
       "      <td>1</td>\n",
       "      <td>3</td>\n",
       "      <td>26.0</td>\n",
       "      <td>7.9250</td>\n",
       "      <td>1</td>\n",
       "      <td>0</td>\n",
       "      <td>0</td>\n",
       "      <td>1</td>\n",
       "      <td>0</td>\n",
       "      <td>0</td>\n",
       "      <td>1</td>\n",
       "    </tr>\n",
       "    <tr>\n",
       "      <th>3</th>\n",
       "      <td>1</td>\n",
       "      <td>1</td>\n",
       "      <td>35.0</td>\n",
       "      <td>53.1000</td>\n",
       "      <td>1</td>\n",
       "      <td>0</td>\n",
       "      <td>1</td>\n",
       "      <td>0</td>\n",
       "      <td>0</td>\n",
       "      <td>0</td>\n",
       "      <td>1</td>\n",
       "    </tr>\n",
       "    <tr>\n",
       "      <th>4</th>\n",
       "      <td>0</td>\n",
       "      <td>3</td>\n",
       "      <td>35.0</td>\n",
       "      <td>8.0500</td>\n",
       "      <td>0</td>\n",
       "      <td>1</td>\n",
       "      <td>0</td>\n",
       "      <td>1</td>\n",
       "      <td>0</td>\n",
       "      <td>0</td>\n",
       "      <td>1</td>\n",
       "    </tr>\n",
       "  </tbody>\n",
       "</table>\n",
       "</div>"
      ],
      "text/plain": [
       "   Survived  Pclass   Age     Fare  female  male  With Family  Without Family  \\\n",
       "0         0       3  22.0   7.2500       0     1            1               0   \n",
       "1         1       1  38.0  71.2833       1     0            1               0   \n",
       "2         1       3  26.0   7.9250       1     0            0               1   \n",
       "3         1       1  35.0  53.1000       1     0            1               0   \n",
       "4         0       3  35.0   8.0500       0     1            0               1   \n",
       "\n",
       "   C  Q  S  \n",
       "0  0  0  1  \n",
       "1  1  0  0  \n",
       "2  0  0  1  \n",
       "3  0  0  1  \n",
       "4  0  0  1  "
      ]
     },
     "execution_count": 32,
     "metadata": {},
     "output_type": "execute_result"
    }
   ],
   "source": [
    "Main_df.head()"
   ]
  },
  {
   "cell_type": "code",
   "execution_count": 33,
   "metadata": {},
   "outputs": [
    {
     "name": "stderr",
     "output_type": "stream",
     "text": [
      "C:\\Users\\Dell\\anaconda3\\lib\\site-packages\\seaborn\\distributions.py:2551: FutureWarning: `distplot` is a deprecated function and will be removed in a future version. Please adapt your code to use either `displot` (a figure-level function with similar flexibility) or `histplot` (an axes-level function for histograms).\n",
      "  warnings.warn(msg, FutureWarning)\n"
     ]
    },
    {
     "data": {
      "text/plain": [
       "<AxesSubplot:xlabel='Survived', ylabel='Density'>"
      ]
     },
     "execution_count": 33,
     "metadata": {},
     "output_type": "execute_result"
    },
    {
     "data": {
      "image/png": "[encoded data removed]",
      "text/plain": [
       "<Figure size 432x288 with 1 Axes>"
      ]
     },
     "metadata": {
      "needs_background": "light"
     },
     "output_type": "display_data"
    }
   ],
   "source": [
    "sns.distplot(Main_df['Survived'],kde=True)"
   ]
  },
  {
   "cell_type": "code",
   "execution_count": 34,
   "metadata": {},
   "outputs": [
    {
     "name": "stderr",
     "output_type": "stream",
     "text": [
      "C:\\Users\\Dell\\anaconda3\\lib\\site-packages\\seaborn\\distributions.py:2551: FutureWarning: `distplot` is a deprecated function and will be removed in a future version. Please adapt your code to use either `displot` (a figure-level function with similar flexibility) or `histplot` (an axes-level function for histograms).\n",
      "  warnings.warn(msg, FutureWarning)\n"
     ]
    },
    {
     "data": {
      "text/plain": [
       "<AxesSubplot:xlabel='Pclass', ylabel='Density'>"
      ]
     },
     "execution_count": 34,
     "metadata": {},
     "output_type": "execute_result"
    },
    {
     "data": {
      "image/png": "[encoded data removed]",
      "text/plain": [
       "<Figure size 432x288 with 1 Axes>"
      ]
     },
     "metadata": {
      "needs_background": "light"
     },
     "output_type": "display_data"
    }
   ],
   "source": [
    "sns.distplot(Main_df['Pclass'],kde=True)"
   ]
  },
  {
   "cell_type": "code",
   "execution_count": 35,
   "metadata": {},
   "outputs": [
    {
     "name": "stderr",
     "output_type": "stream",
     "text": [
      "C:\\Users\\Dell\\anaconda3\\lib\\site-packages\\seaborn\\distributions.py:2551: FutureWarning: `distplot` is a deprecated function and will be removed in a future version. Please adapt your code to use either `displot` (a figure-level function with similar flexibility) or `histplot` (an axes-level function for histograms).\n",
      "  warnings.warn(msg, FutureWarning)\n"
     ]
    },
    {
     "data": {
      "text/plain": [
       "<AxesSubplot:xlabel='Age', ylabel='Density'>"
      ]
     },
     "execution_count": 35,
     "metadata": {},
     "output_type": "execute_result"
    },
    {
     "data": {
      "image/png": "[encoded data removed]",
      "text/plain": [
       "<Figure size 432x288 with 1 Axes>"
      ]
     },
     "metadata": {
      "needs_background": "light"
     },
     "output_type": "display_data"
    }
   ],
   "source": [
    "sns.distplot(Main_df['Age'],kde=True)"
   ]
  },
  {
   "cell_type": "code",
   "execution_count": 36,
   "metadata": {},
   "outputs": [
    {
     "name": "stderr",
     "output_type": "stream",
     "text": [
      "C:\\Users\\Dell\\anaconda3\\lib\\site-packages\\seaborn\\distributions.py:2551: FutureWarning: `distplot` is a deprecated function and will be removed in a future version. Please adapt your code to use either `displot` (a figure-level function with similar flexibility) or `histplot` (an axes-level function for histograms).\n",
      "  warnings.warn(msg, FutureWarning)\n"
     ]
    },
    {
     "data": {
      "text/plain": [
       "<AxesSubplot:xlabel='Fare', ylabel='Density'>"
      ]
     },
     "execution_count": 36,
     "metadata": {},
     "output_type": "execute_result"
    },
    {
     "data": {
      "image/png": "[encoded data removed]",
      "text/plain": [
       "<Figure size 432x288 with 1 Axes>"
      ]
     },
     "metadata": {
      "needs_background": "light"
     },
     "output_type": "display_data"
    }
   ],
   "source": [
    "sns.distplot(Main_df['Fare'],kde=True)"
   ]
  },
  {
   "cell_type": "markdown",
   "metadata": {},
   "source": [
    "### The distributions for all the features are fine.."
   ]
  },
  {
   "cell_type": "markdown",
   "metadata": {},
   "source": [
    "### In the following model building we will be using Logistic regression and decision tree(Post Pruning)"
   ]
  },
  {
   "cell_type": "code",
   "execution_count": 37,
   "metadata": {},
   "outputs": [],
   "source": [
    "from sklearn.linear_model  import LogisticRegression\n",
    "from sklearn.metrics import accuracy_score, confusion_matrix, roc_curve, roc_auc_score\n",
    "from sklearn.preprocessing import StandardScaler "
   ]
  },
  {
   "cell_type": "code",
   "execution_count": 38,
   "metadata": {},
   "outputs": [],
   "source": [
    "X = Main_df.drop(columns = ['Survived'])\n",
    "y = Main_df['Survived']"
   ]
  },
  {
   "cell_type": "code",
   "execution_count": 39,
   "metadata": {},
   "outputs": [],
   "source": [
    "scalar = StandardScaler()\n",
    "X_scaled = scalar.fit_transform(X)"
   ]
  },
  {
   "cell_type": "code",
   "execution_count": 40,
   "metadata": {},
   "outputs": [
    {
     "data": {
      "text/plain": [
       "array([[ 0.82737724, -0.5924806 , -0.50244517, ..., -0.48204268,\n",
       "        -0.30756234,  0.61583843],\n",
       "       [-1.56610693,  0.63878901,  0.78684529, ...,  2.0745051 ,\n",
       "        -0.30756234, -1.62380254],\n",
       "       [ 0.82737724, -0.2846632 , -0.48885426, ..., -0.48204268,\n",
       "        -0.30756234,  0.61583843],\n",
       "       ...,\n",
       "       [ 0.82737724,  0.        , -0.17626324, ..., -0.48204268,\n",
       "        -0.30756234,  0.61583843],\n",
       "       [-1.56610693, -0.2846632 , -0.04438104, ...,  2.0745051 ,\n",
       "        -0.30756234, -1.62380254],\n",
       "       [ 0.82737724,  0.17706291, -0.49237783, ..., -0.48204268,\n",
       "         3.25137334, -1.62380254]])"
      ]
     },
     "execution_count": 40,
     "metadata": {},
     "output_type": "execute_result"
    }
   ],
   "source": [
    "X_scaled"
   ]
  },
  {
   "cell_type": "code",
   "execution_count": 41,
   "metadata": {},
   "outputs": [],
   "source": [
    "from sklearn.model_selection import train_test_split\n",
    "x_train,x_test,y_train,y_test = train_test_split(X_scaled,y, test_size= 0.25, random_state = 355)"
   ]
  },
  {
   "cell_type": "markdown",
   "metadata": {},
   "source": [
    "### Logistic Regression"
   ]
  },
  {
   "cell_type": "code",
   "execution_count": 42,
   "metadata": {},
   "outputs": [
    {
     "data": {
      "text/plain": [
       "LogisticRegression()"
      ]
     },
     "execution_count": 42,
     "metadata": {},
     "output_type": "execute_result"
    }
   ],
   "source": [
    "log_reg = LogisticRegression()\n",
    "\n",
    "log_reg.fit(x_train,y_train)"
   ]
  },
  {
   "cell_type": "code",
   "execution_count": 43,
   "metadata": {},
   "outputs": [],
   "source": [
    "y_pred = log_reg.predict(x_test)"
   ]
  },
  {
   "cell_type": "code",
   "execution_count": 44,
   "metadata": {},
   "outputs": [
    {
     "data": {
      "text/plain": [
       "0.7802690582959642"
      ]
     },
     "execution_count": 44,
     "metadata": {},
     "output_type": "execute_result"
    }
   ],
   "source": [
    "accuracy = accuracy_score(y_test,y_pred)\n",
    "accuracy"
   ]
  },
  {
   "cell_type": "code",
   "execution_count": 45,
   "metadata": {},
   "outputs": [
    {
     "data": {
      "text/plain": [
       "array([[119,  26],\n",
       "       [ 23,  55]], dtype=int64)"
      ]
     },
     "execution_count": 45,
     "metadata": {},
     "output_type": "execute_result"
    }
   ],
   "source": [
    "# Confusion Matrix\n",
    "conf_mat = confusion_matrix(y_test,y_pred)\n",
    "conf_mat"
   ]
  },
  {
   "cell_type": "code",
   "execution_count": 46,
   "metadata": {},
   "outputs": [],
   "source": [
    "true_positive = conf_mat[0][0]\n",
    "false_positive = conf_mat[0][1]\n",
    "false_negative = conf_mat[1][0]\n",
    "true_negative = conf_mat[1][1]"
   ]
  },
  {
   "cell_type": "code",
   "execution_count": 47,
   "metadata": {},
   "outputs": [
    {
     "data": {
      "text/plain": [
       "0.8206896551724138"
      ]
     },
     "execution_count": 47,
     "metadata": {},
     "output_type": "execute_result"
    }
   ],
   "source": [
    "# Precison\n",
    "Precision = true_positive/(true_positive+false_positive)\n",
    "Precision"
   ]
  },
  {
   "cell_type": "code",
   "execution_count": 48,
   "metadata": {},
   "outputs": [
    {
     "data": {
      "text/plain": [
       "0.8380281690140845"
      ]
     },
     "execution_count": 48,
     "metadata": {},
     "output_type": "execute_result"
    }
   ],
   "source": [
    "# Recall\n",
    "Recall = true_positive/(true_positive+false_negative)\n",
    "Recall"
   ]
  },
  {
   "cell_type": "code",
   "execution_count": 49,
   "metadata": {},
   "outputs": [
    {
     "data": {
      "text/plain": [
       "0.8292682926829268"
      ]
     },
     "execution_count": 49,
     "metadata": {},
     "output_type": "execute_result"
    }
   ],
   "source": [
    "# F1 Score\n",
    "F1_Score = 2*(Recall * Precision) / (Recall + Precision)\n",
    "F1_Score"
   ]
  },
  {
   "cell_type": "markdown",
   "metadata": {},
   "source": [
    "### Decision Tree"
   ]
  },
  {
   "cell_type": "code",
   "execution_count": 50,
   "metadata": {},
   "outputs": [],
   "source": [
    "from sklearn.tree import DecisionTreeClassifier\n",
    "from sklearn import tree"
   ]
  },
  {
   "cell_type": "code",
   "execution_count": 51,
   "metadata": {},
   "outputs": [
    {
     "data": {
      "text/plain": [
       "DecisionTreeClassifier()"
      ]
     },
     "execution_count": 51,
     "metadata": {},
     "output_type": "execute_result"
    }
   ],
   "source": [
    "#let's first visualize the tree on the data without doing any pre processing\n",
    "clf = DecisionTreeClassifier()\n",
    "clf.fit(x_train,y_train)"
   ]
  },
  {
   "cell_type": "code",
   "execution_count": 52,
   "metadata": {},
   "outputs": [
    {
     "data": {
      "text/plain": [
       "['Pclass',\n",
       " 'Age',\n",
       " 'Fare',\n",
       " 'female',\n",
       " 'male',\n",
       " 'With Family',\n",
       " 'Without Family',\n",
       " 'C',\n",
       " 'Q',\n",
       " 'S']"
      ]
     },
     "execution_count": 52,
     "metadata": {},
     "output_type": "execute_result"
    }
   ],
   "source": [
    "feature_name=list(X.columns)\n",
    "class_name = list(y_train.unique())\n",
    "feature_name"
   ]
  },
  {
   "cell_type": "code",
   "execution_count": 53,
   "metadata": {},
   "outputs": [
    {
     "data": {
      "text/plain": [
       "[Text(313.8486328125, 528.5, 'X[4] <= -0.309\\ngini = 0.478\\nsamples = 668\\nvalue = [404, 264]'),\n",
       " Text(120.498046875, 498.3, 'X[0] <= 0.229\\ngini = 0.364\\nsamples = 238\\nvalue = [57, 181]'),\n",
       " Text(45.5625, 468.1, 'X[1] <= -2.093\\ngini = 0.124\\nsamples = 136\\nvalue = [9, 127]'),\n",
       " Text(27.0, 437.9, 'X[2] <= 1.139\\ngini = 0.5\\nsamples = 2\\nvalue = [1, 1]'),\n",
       " Text(20.25, 407.70000000000005, 'gini = 0.0\\nsamples = 1\\nvalue = [0, 1]'),\n",
       " Text(33.75, 407.70000000000005, 'gini = 0.0\\nsamples = 1\\nvalue = [1, 0]'),\n",
       " Text(64.125, 437.9, 'X[2] <= -0.067\\ngini = 0.112\\nsamples = 134\\nvalue = [8, 126]'),\n",
       " Text(47.25, 407.70000000000005, 'X[2] <= -0.08\\ngini = 0.229\\nsamples = 53\\nvalue = [7, 46]'),\n",
       " Text(40.5, 377.5, 'X[1] <= 2.024\\ngini = 0.204\\nsamples = 52\\nvalue = [6, 46]'),\n",
       " Text(27.0, 347.3, 'X[1] <= -0.554\\ngini = 0.18\\nsamples = 50\\nvalue = [5, 45]'),\n",
       " Text(20.25, 317.1, 'gini = 0.0\\nsamples = 12\\nvalue = [0, 12]'),\n",
       " Text(33.75, 317.1, 'X[1] <= -0.169\\ngini = 0.229\\nsamples = 38\\nvalue = [5, 33]'),\n",
       " Text(20.25, 286.9, 'X[1] <= -0.362\\ngini = 0.469\\nsamples = 8\\nvalue = [3, 5]'),\n",
       " Text(13.5, 256.7, 'X[5] <= 0.21\\ngini = 0.278\\nsamples = 6\\nvalue = [1, 5]'),\n",
       " Text(6.75, 226.5, 'gini = 0.5\\nsamples = 2\\nvalue = [1, 1]'),\n",
       " Text(20.25, 226.5, 'gini = 0.0\\nsamples = 4\\nvalue = [0, 4]'),\n",
       " Text(27.0, 256.7, 'gini = 0.0\\nsamples = 2\\nvalue = [2, 0]'),\n",
       " Text(47.25, 286.9, 'X[1] <= 0.562\\ngini = 0.124\\nsamples = 30\\nvalue = [2, 28]'),\n",
       " Text(40.5, 256.7, 'gini = 0.0\\nsamples = 18\\nvalue = [0, 18]'),\n",
       " Text(54.0, 256.7, 'X[1] <= 0.716\\ngini = 0.278\\nsamples = 12\\nvalue = [2, 10]'),\n",
       " Text(47.25, 226.5, 'gini = 0.0\\nsamples = 1\\nvalue = [1, 0]'),\n",
       " Text(60.75, 226.5, 'X[6] <= -0.21\\ngini = 0.165\\nsamples = 11\\nvalue = [1, 10]'),\n",
       " Text(54.0, 196.3, 'X[1] <= 1.139\\ngini = 0.375\\nsamples = 4\\nvalue = [1, 3]'),\n",
       " Text(47.25, 166.09999999999997, 'X[1] <= 1.024\\ngini = 0.5\\nsamples = 2\\nvalue = [1, 1]'),\n",
       " Text(40.5, 135.89999999999998, 'gini = 0.0\\nsamples = 1\\nvalue = [0, 1]'),\n",
       " Text(54.0, 135.89999999999998, 'gini = 0.0\\nsamples = 1\\nvalue = [1, 0]'),\n",
       " Text(60.75, 166.09999999999997, 'gini = 0.0\\nsamples = 2\\nvalue = [0, 2]'),\n",
       " Text(67.5, 196.3, 'gini = 0.0\\nsamples = 7\\nvalue = [0, 7]'),\n",
       " Text(54.0, 347.3, 'X[1] <= 2.139\\ngini = 0.5\\nsamples = 2\\nvalue = [1, 1]'),\n",
       " Text(47.25, 317.1, 'gini = 0.0\\nsamples = 1\\nvalue = [1, 0]'),\n",
       " Text(60.75, 317.1, 'gini = 0.0\\nsamples = 1\\nvalue = [0, 1]'),\n",
       " Text(54.0, 377.5, 'gini = 0.0\\nsamples = 1\\nvalue = [1, 0]'),\n",
       " Text(81.0, 407.70000000000005, 'X[2] <= 2.352\\ngini = 0.024\\nsamples = 81\\nvalue = [1, 80]'),\n",
       " Text(74.25, 377.5, 'gini = 0.0\\nsamples = 66\\nvalue = [0, 66]'),\n",
       " Text(87.75, 377.5, 'X[2] <= 2.422\\ngini = 0.124\\nsamples = 15\\nvalue = [1, 14]'),\n",
       " Text(81.0, 347.3, 'X[1] <= -0.477\\ngini = 0.5\\nsamples = 2\\nvalue = [1, 1]'),\n",
       " Text(74.25, 317.1, 'gini = 0.0\\nsamples = 1\\nvalue = [0, 1]'),\n",
       " Text(87.75, 317.1, 'gini = 0.0\\nsamples = 1\\nvalue = [1, 0]'),\n",
       " Text(94.5, 347.3, 'gini = 0.0\\nsamples = 13\\nvalue = [0, 13]'),\n",
       " Text(195.43359375, 468.1, 'X[2] <= -0.178\\ngini = 0.498\\nsamples = 102\\nvalue = [48, 54]'),\n",
       " Text(172.3359375, 437.9, 'X[1] <= 0.523\\ngini = 0.478\\nsamples = 86\\nvalue = [34, 52]'),\n",
       " Text(146.390625, 407.70000000000005, 'X[9] <= -0.504\\ngini = 0.462\\nsamples = 80\\nvalue = [29, 51]'),\n",
       " Text(114.75, 377.5, 'X[1] <= 0.031\\ngini = 0.381\\nsamples = 39\\nvalue = [10, 29]'),\n",
       " Text(108.0, 347.3, 'X[2] <= -0.508\\ngini = 0.339\\nsamples = 37\\nvalue = [8, 29]'),\n",
       " Text(101.25, 317.1, 'gini = 0.0\\nsamples = 1\\nvalue = [1, 0]'),\n",
       " Text(114.75, 317.1, 'X[2] <= -0.339\\ngini = 0.313\\nsamples = 36\\nvalue = [7, 29]'),\n",
       " Text(108.0, 286.9, 'X[2] <= -0.368\\ngini = 0.366\\nsamples = 29\\nvalue = [7, 22]'),\n",
       " Text(94.5, 256.7, 'X[1] <= -0.862\\ngini = 0.311\\nsamples = 26\\nvalue = [5, 21]'),\n",
       " Text(87.75, 226.5, 'gini = 0.0\\nsamples = 6\\nvalue = [0, 6]'),\n",
       " Text(101.25, 226.5, 'X[6] <= -0.21\\ngini = 0.375\\nsamples = 20\\nvalue = [5, 15]'),\n",
       " Text(94.5, 196.3, 'gini = 0.0\\nsamples = 1\\nvalue = [1, 0]'),\n",
       " Text(108.0, 196.3, 'X[2] <= -0.487\\ngini = 0.332\\nsamples = 19\\nvalue = [4, 15]'),\n",
       " Text(101.25, 166.09999999999997, 'X[1] <= -0.631\\ngini = 0.278\\nsamples = 18\\nvalue = [3, 15]'),\n",
       " Text(94.5, 135.89999999999998, 'gini = 0.0\\nsamples = 1\\nvalue = [1, 0]'),\n",
       " Text(108.0, 135.89999999999998, 'X[2] <= -0.494\\ngini = 0.208\\nsamples = 17\\nvalue = [2, 15]'),\n",
       " Text(94.5, 105.69999999999999, 'X[2] <= -0.499\\ngini = 0.5\\nsamples = 2\\nvalue = [1, 1]'),\n",
       " Text(87.75, 75.5, 'gini = 0.0\\nsamples = 1\\nvalue = [0, 1]'),\n",
       " Text(101.25, 75.5, 'gini = 0.0\\nsamples = 1\\nvalue = [1, 0]'),\n",
       " Text(121.5, 105.69999999999999, 'X[2] <= -0.492\\ngini = 0.124\\nsamples = 15\\nvalue = [1, 14]'),\n",
       " Text(114.75, 75.5, 'X[2] <= -0.493\\ngini = 0.165\\nsamples = 11\\nvalue = [1, 10]'),\n",
       " Text(108.0, 45.299999999999955, 'gini = 0.0\\nsamples = 2\\nvalue = [0, 2]'),\n",
       " Text(121.5, 45.299999999999955, 'X[1] <= -0.296\\ngini = 0.198\\nsamples = 9\\nvalue = [1, 8]'),\n",
       " Text(114.75, 15.100000000000023, 'gini = 0.0\\nsamples = 1\\nvalue = [0, 1]'),\n",
       " Text(128.25, 15.100000000000023, 'gini = 0.219\\nsamples = 8\\nvalue = [1, 7]'),\n",
       " Text(128.25, 75.5, 'gini = 0.0\\nsamples = 4\\nvalue = [0, 4]'),\n",
       " Text(114.75, 166.09999999999997, 'gini = 0.0\\nsamples = 1\\nvalue = [1, 0]'),\n",
       " Text(121.5, 256.7, 'X[1] <= -0.477\\ngini = 0.444\\nsamples = 3\\nvalue = [2, 1]'),\n",
       " Text(114.75, 226.5, 'gini = 0.0\\nsamples = 2\\nvalue = [2, 0]'),\n",
       " Text(128.25, 226.5, 'gini = 0.0\\nsamples = 1\\nvalue = [0, 1]'),\n",
       " Text(121.5, 286.9, 'gini = 0.0\\nsamples = 7\\nvalue = [0, 7]'),\n",
       " Text(121.5, 347.3, 'gini = 0.0\\nsamples = 2\\nvalue = [2, 0]'),\n",
       " Text(178.03125, 377.5, 'X[1] <= 0.177\\ngini = 0.497\\nsamples = 41\\nvalue = [19, 22]'),\n",
       " Text(171.28125, 347.3, 'X[2] <= -0.491\\ngini = 0.5\\nsamples = 38\\nvalue = [19, 19]'),\n",
       " Text(151.875, 317.1, 'X[1] <= -0.258\\ngini = 0.278\\nsamples = 6\\nvalue = [1, 5]'),\n",
       " Text(145.125, 286.9, 'gini = 0.0\\nsamples = 5\\nvalue = [0, 5]'),\n",
       " Text(158.625, 286.9, 'gini = 0.0\\nsamples = 1\\nvalue = [1, 0]'),\n",
       " Text(190.6875, 317.1, 'X[2] <= -0.301\\ngini = 0.492\\nsamples = 32\\nvalue = [18, 14]'),\n",
       " Text(172.125, 286.9, 'X[2] <= -0.45\\ngini = 0.5\\nsamples = 26\\nvalue = [13, 13]'),\n",
       " Text(155.25, 256.7, 'X[1] <= -0.323\\ngini = 0.43\\nsamples = 16\\nvalue = [11, 5]'),\n",
       " Text(141.75, 226.5, 'X[1] <= -0.823\\ngini = 0.219\\nsamples = 8\\nvalue = [7, 1]'),\n",
       " Text(135.0, 196.3, 'X[1] <= -1.054\\ngini = 0.5\\nsamples = 2\\nvalue = [1, 1]'),\n",
       " Text(128.25, 166.09999999999997, 'gini = 0.0\\nsamples = 1\\nvalue = [1, 0]'),\n",
       " Text(141.75, 166.09999999999997, 'gini = 0.0\\nsamples = 1\\nvalue = [0, 1]'),\n",
       " Text(148.5, 196.3, 'gini = 0.0\\nsamples = 6\\nvalue = [6, 0]'),\n",
       " Text(168.75, 226.5, 'X[1] <= -0.104\\ngini = 0.5\\nsamples = 8\\nvalue = [4, 4]'),\n",
       " Text(162.0, 196.3, 'gini = 0.0\\nsamples = 3\\nvalue = [0, 3]'),\n",
       " Text(175.5, 196.3, 'X[2] <= -0.474\\ngini = 0.32\\nsamples = 5\\nvalue = [4, 1]'),\n",
       " Text(168.75, 166.09999999999997, 'gini = 0.0\\nsamples = 4\\nvalue = [4, 0]'),\n",
       " Text(182.25, 166.09999999999997, 'gini = 0.0\\nsamples = 1\\nvalue = [0, 1]'),\n",
       " Text(189.0, 256.7, 'X[2] <= -0.378\\ngini = 0.32\\nsamples = 10\\nvalue = [2, 8]'),\n",
       " Text(182.25, 226.5, 'gini = 0.0\\nsamples = 5\\nvalue = [0, 5]'),\n",
       " Text(195.75, 226.5, 'X[1] <= -0.362\\ngini = 0.48\\nsamples = 5\\nvalue = [2, 3]'),\n",
       " Text(189.0, 196.3, 'gini = 0.0\\nsamples = 2\\nvalue = [0, 2]'),\n",
       " Text(202.5, 196.3, 'X[1] <= -0.065\\ngini = 0.444\\nsamples = 3\\nvalue = [2, 1]'),\n",
       " Text(195.75, 166.09999999999997, 'gini = 0.0\\nsamples = 2\\nvalue = [2, 0]'),\n",
       " Text(209.25, 166.09999999999997, 'gini = 0.0\\nsamples = 1\\nvalue = [0, 1]'),\n",
       " Text(209.25, 286.9, 'X[2] <= -0.215\\ngini = 0.278\\nsamples = 6\\nvalue = [5, 1]'),\n",
       " Text(202.5, 256.7, 'gini = 0.0\\nsamples = 5\\nvalue = [5, 0]'),\n",
       " Text(216.0, 256.7, 'gini = 0.0\\nsamples = 1\\nvalue = [0, 1]'),\n",
       " Text(184.78125, 347.3, 'gini = 0.0\\nsamples = 3\\nvalue = [0, 3]'),\n",
       " Text(198.28125, 407.70000000000005, 'X[1] <= 1.87\\ngini = 0.278\\nsamples = 6\\nvalue = [5, 1]'),\n",
       " Text(191.53125, 377.5, 'gini = 0.0\\nsamples = 5\\nvalue = [5, 0]'),\n",
       " Text(205.03125, 377.5, 'gini = 0.0\\nsamples = 1\\nvalue = [0, 1]'),\n",
       " Text(218.53125, 437.9, 'X[2] <= -0.018\\ngini = 0.219\\nsamples = 16\\nvalue = [14, 2]'),\n",
       " Text(211.78125, 407.70000000000005, 'gini = 0.0\\nsamples = 9\\nvalue = [9, 0]'),\n",
       " Text(225.28125, 407.70000000000005, 'X[2] <= 0.014\\ngini = 0.408\\nsamples = 7\\nvalue = [5, 2]'),\n",
       " Text(218.53125, 377.5, 'gini = 0.0\\nsamples = 2\\nvalue = [0, 2]'),\n",
       " Text(232.03125, 377.5, 'gini = 0.0\\nsamples = 5\\nvalue = [5, 0]'),\n",
       " Text(507.19921875, 498.3, 'X[1] <= -1.862\\ngini = 0.312\\nsamples = 430\\nvalue = [347, 83]'),\n",
       " Text(417.234375, 468.1, 'X[2] <= 0.144\\ngini = 0.346\\nsamples = 18\\nvalue = [4, 14]'),\n",
       " Text(403.734375, 437.9, 'X[8] <= 1.472\\ngini = 0.142\\nsamples = 13\\nvalue = [1, 12]'),\n",
       " Text(396.984375, 407.70000000000005, 'gini = 0.0\\nsamples = 12\\nvalue = [0, 12]'),\n",
       " Text(410.484375, 407.70000000000005, 'gini = 0.0\\nsamples = 1\\nvalue = [1, 0]'),\n",
       " Text(430.734375, 437.9, 'X[2] <= 0.648\\ngini = 0.48\\nsamples = 5\\nvalue = [3, 2]'),\n",
       " Text(423.984375, 407.70000000000005, 'gini = 0.0\\nsamples = 3\\nvalue = [3, 0]'),\n",
       " Text(437.484375, 407.70000000000005, 'gini = 0.0\\nsamples = 2\\nvalue = [0, 2]'),\n",
       " Text(597.1640625, 468.1, 'X[2] <= -0.12\\ngini = 0.279\\nsamples = 412\\nvalue = [343, 69]'),\n",
       " Text(457.734375, 437.9, 'X[1] <= -1.516\\ngini = 0.181\\nsamples = 308\\nvalue = [277, 31]'),\n",
       " Text(450.984375, 407.70000000000005, 'gini = 0.0\\nsamples = 2\\nvalue = [0, 2]'),\n",
       " Text(464.484375, 407.70000000000005, 'X[7] <= 0.796\\ngini = 0.172\\nsamples = 306\\nvalue = [277, 29]'),\n",
       " Text(385.59375, 377.5, 'X[2] <= -0.382\\ngini = 0.155\\nsamples = 272\\nvalue = [249, 23]'),\n",
       " Text(312.1875, 347.3, 'X[1] <= -0.477\\ngini = 0.179\\nsamples = 221\\nvalue = [199, 22]'),\n",
       " Text(256.5, 317.1, 'X[2] <= -0.485\\ngini = 0.094\\nsamples = 61\\nvalue = [58, 3]'),\n",
       " Text(249.75, 286.9, 'X[2] <= -0.489\\ngini = 0.149\\nsamples = 37\\nvalue = [34, 3]'),\n",
       " Text(229.5, 256.7, 'X[2] <= -0.492\\ngini = 0.071\\nsamples = 27\\nvalue = [26, 1]'),\n",
       " Text(222.75, 226.5, 'gini = 0.0\\nsamples = 15\\nvalue = [15, 0]'),\n",
       " Text(236.25, 226.5, 'X[2] <= -0.491\\ngini = 0.153\\nsamples = 12\\nvalue = [11, 1]'),\n",
       " Text(229.5, 196.3, 'X[1] <= -0.785\\ngini = 0.444\\nsamples = 3\\nvalue = [2, 1]'),\n",
       " Text(222.75, 166.09999999999997, 'gini = 0.0\\nsamples = 1\\nvalue = [1, 0]'),\n",
       " Text(236.25, 166.09999999999997, 'X[1] <= -0.631\\ngini = 0.5\\nsamples = 2\\nvalue = [1, 1]'),\n",
       " Text(229.5, 135.89999999999998, 'gini = 0.0\\nsamples = 1\\nvalue = [0, 1]'),\n",
       " Text(243.0, 135.89999999999998, 'gini = 0.0\\nsamples = 1\\nvalue = [1, 0]'),\n",
       " Text(243.0, 196.3, 'gini = 0.0\\nsamples = 9\\nvalue = [9, 0]'),\n",
       " Text(270.0, 256.7, 'X[5] <= 0.21\\ngini = 0.32\\nsamples = 10\\nvalue = [8, 2]'),\n",
       " Text(263.25, 226.5, 'X[1] <= -0.862\\ngini = 0.198\\nsamples = 9\\nvalue = [8, 1]'),\n",
       " Text(256.5, 196.3, 'X[1] <= -0.977\\ngini = 0.5\\nsamples = 2\\nvalue = [1, 1]'),\n",
       " Text(249.75, 166.09999999999997, 'gini = 0.0\\nsamples = 1\\nvalue = [1, 0]'),\n",
       " Text(263.25, 166.09999999999997, 'gini = 0.0\\nsamples = 1\\nvalue = [0, 1]'),\n",
       " Text(270.0, 196.3, 'gini = 0.0\\nsamples = 7\\nvalue = [7, 0]'),\n",
       " Text(276.75, 226.5, 'gini = 0.0\\nsamples = 1\\nvalue = [0, 1]'),\n",
       " Text(263.25, 286.9, 'gini = 0.0\\nsamples = 24\\nvalue = [24, 0]'),\n",
       " Text(367.875, 317.1, 'X[2] <= -0.489\\ngini = 0.209\\nsamples = 160\\nvalue = [141, 19]'),\n",
       " Text(320.625, 286.9, 'X[1] <= -0.323\\ngini = 0.148\\nsamples = 87\\nvalue = [80, 7]'),\n",
       " Text(297.0, 256.7, 'X[2] <= -0.492\\ngini = 0.469\\nsamples = 8\\nvalue = [5, 3]'),\n",
       " Text(290.25, 226.5, 'X[6] <= -0.21\\ngini = 0.48\\nsamples = 5\\nvalue = [2, 3]'),\n",
       " Text(283.5, 196.3, 'gini = 0.0\\nsamples = 1\\nvalue = [0, 1]'),\n",
       " Text(297.0, 196.3, 'X[2] <= -0.577\\ngini = 0.5\\nsamples = 4\\nvalue = [2, 2]'),\n",
       " Text(290.25, 166.09999999999997, 'gini = 0.0\\nsamples = 1\\nvalue = [0, 1]'),\n",
       " Text(303.75, 166.09999999999997, 'X[1] <= -0.4\\ngini = 0.444\\nsamples = 3\\nvalue = [2, 1]'),\n",
       " Text(297.0, 135.89999999999998, 'gini = 0.0\\nsamples = 1\\nvalue = [0, 1]'),\n",
       " Text(310.5, 135.89999999999998, 'gini = 0.0\\nsamples = 2\\nvalue = [2, 0]'),\n",
       " Text(303.75, 226.5, 'gini = 0.0\\nsamples = 3\\nvalue = [3, 0]'),\n",
       " Text(344.25, 256.7, 'X[2] <= -0.493\\ngini = 0.096\\nsamples = 79\\nvalue = [75, 4]'),\n",
       " Text(337.5, 226.5, 'gini = 0.0\\nsamples = 30\\nvalue = [30, 0]'),\n",
       " Text(351.0, 226.5, 'X[2] <= -0.49\\ngini = 0.15\\nsamples = 49\\nvalue = [45, 4]'),\n",
       " Text(344.25, 196.3, 'X[2] <= -0.492\\ngini = 0.26\\nsamples = 26\\nvalue = [22, 4]'),\n",
       " Text(330.75, 166.09999999999997, 'X[1] <= 0.05\\ngini = 0.18\\nsamples = 20\\nvalue = [18, 2]'),\n",
       " Text(324.0, 135.89999999999998, 'X[1] <= -0.027\\ngini = 0.278\\nsamples = 12\\nvalue = [10, 2]'),\n",
       " Text(317.25, 105.69999999999999, 'gini = 0.0\\nsamples = 2\\nvalue = [2, 0]'),\n",
       " Text(330.75, 105.69999999999999, 'X[2] <= -0.492\\ngini = 0.32\\nsamples = 10\\nvalue = [8, 2]'),\n",
       " Text(324.0, 75.5, 'X[5] <= 0.21\\ngini = 0.219\\nsamples = 8\\nvalue = [7, 1]'),\n",
       " Text(317.25, 45.299999999999955, 'gini = 0.245\\nsamples = 7\\nvalue = [6, 1]'),\n",
       " Text(330.75, 45.299999999999955, 'gini = 0.0\\nsamples = 1\\nvalue = [1, 0]'),\n",
       " Text(337.5, 75.5, 'gini = 0.5\\nsamples = 2\\nvalue = [1, 1]'),\n",
       " Text(337.5, 135.89999999999998, 'gini = 0.0\\nsamples = 8\\nvalue = [8, 0]'),\n",
       " Text(357.75, 166.09999999999997, 'X[1] <= -0.246\\ngini = 0.444\\nsamples = 6\\nvalue = [4, 2]'),\n",
       " Text(351.0, 135.89999999999998, 'gini = 0.0\\nsamples = 1\\nvalue = [1, 0]'),\n",
       " Text(364.5, 135.89999999999998, 'X[1] <= -0.169\\ngini = 0.48\\nsamples = 5\\nvalue = [3, 2]'),\n",
       " Text(357.75, 105.69999999999999, 'gini = 0.0\\nsamples = 1\\nvalue = [0, 1]'),\n",
       " Text(371.25, 105.69999999999999, 'X[1] <= 0.023\\ngini = 0.375\\nsamples = 4\\nvalue = [3, 1]'),\n",
       " Text(364.5, 75.5, 'gini = 0.0\\nsamples = 2\\nvalue = [2, 0]'),\n",
       " Text(378.0, 75.5, 'X[1] <= 0.793\\ngini = 0.5\\nsamples = 2\\nvalue = [1, 1]'),\n",
       " Text(371.25, 45.299999999999955, 'gini = 0.0\\nsamples = 1\\nvalue = [0, 1]'),\n",
       " Text(384.75, 45.299999999999955, 'gini = 0.0\\nsamples = 1\\nvalue = [1, 0]'),\n",
       " Text(357.75, 196.3, 'gini = 0.0\\nsamples = 23\\nvalue = [23, 0]'),\n",
       " Text(415.125, 286.9, 'X[2] <= -0.488\\ngini = 0.275\\nsamples = 73\\nvalue = [61, 12]'),\n",
       " Text(391.5, 256.7, 'X[1] <= 0.908\\ngini = 0.49\\nsamples = 7\\nvalue = [4, 3]'),\n",
       " Text(384.75, 226.5, 'X[5] <= 0.21\\ngini = 0.444\\nsamples = 6\\nvalue = [4, 2]'),\n",
       " Text(378.0, 196.3, 'X[1] <= 0.446\\ngini = 0.48\\nsamples = 5\\nvalue = [3, 2]'),\n",
       " Text(371.25, 166.09999999999997, 'gini = 0.444\\nsamples = 3\\nvalue = [2, 1]'),\n",
       " Text(384.75, 166.09999999999997, 'gini = 0.5\\nsamples = 2\\nvalue = [1, 1]'),\n",
       " Text(391.5, 196.3, 'gini = 0.0\\nsamples = 1\\nvalue = [1, 0]'),\n",
       " Text(398.25, 226.5, 'gini = 0.0\\nsamples = 1\\nvalue = [0, 1]'),\n",
       " Text(438.75, 256.7, 'X[1] <= -0.246\\ngini = 0.236\\nsamples = 66\\nvalue = [57, 9]'),\n",
       " Text(432.0, 226.5, 'gini = 0.0\\nsamples = 9\\nvalue = [9, 0]'),\n",
       " Text(445.5, 226.5, 'X[2] <= -0.474\\ngini = 0.266\\nsamples = 57\\nvalue = [48, 9]'),\n",
       " Text(405.0, 196.3, 'X[1] <= 0.119\\ngini = 0.159\\nsamples = 23\\nvalue = [21, 2]'),\n",
       " Text(398.25, 166.09999999999997, 'gini = 0.0\\nsamples = 15\\nvalue = [15, 0]'),\n",
       " Text(411.75, 166.09999999999997, 'X[1] <= 0.216\\ngini = 0.375\\nsamples = 8\\nvalue = [6, 2]'),\n",
       " Text(405.0, 135.89999999999998, 'gini = 0.0\\nsamples = 1\\nvalue = [0, 1]'),\n",
       " Text(418.5, 135.89999999999998, 'X[1] <= 0.793\\ngini = 0.245\\nsamples = 7\\nvalue = [6, 1]'),\n",
       " Text(411.75, 105.69999999999999, 'gini = 0.0\\nsamples = 3\\nvalue = [3, 0]'),\n",
       " Text(425.25, 105.69999999999999, 'X[1] <= 1.37\\ngini = 0.375\\nsamples = 4\\nvalue = [3, 1]'),\n",
       " Text(418.5, 75.5, 'gini = 0.0\\nsamples = 1\\nvalue = [0, 1]'),\n",
       " Text(432.0, 75.5, 'gini = 0.0\\nsamples = 3\\nvalue = [3, 0]'),\n",
       " Text(486.0, 196.3, 'X[1] <= 0.1\\ngini = 0.327\\nsamples = 34\\nvalue = [27, 7]'),\n",
       " Text(459.0, 166.09999999999997, 'X[2] <= -0.447\\ngini = 0.426\\nsamples = 13\\nvalue = [9, 4]'),\n",
       " Text(445.5, 135.89999999999998, 'X[1] <= -0.169\\ngini = 0.5\\nsamples = 6\\nvalue = [3, 3]'),\n",
       " Text(438.75, 105.69999999999999, 'gini = 0.0\\nsamples = 1\\nvalue = [0, 1]'),\n",
       " Text(452.25, 105.69999999999999, 'X[2] <= -0.457\\ngini = 0.48\\nsamples = 5\\nvalue = [3, 2]'),\n",
       " Text(445.5, 75.5, 'gini = 0.0\\nsamples = 2\\nvalue = [2, 0]'),\n",
       " Text(459.0, 75.5, 'X[1] <= -0.092\\ngini = 0.444\\nsamples = 3\\nvalue = [1, 2]'),\n",
       " Text(452.25, 45.299999999999955, 'gini = 0.0\\nsamples = 1\\nvalue = [1, 0]'),\n",
       " Text(465.75, 45.299999999999955, 'gini = 0.0\\nsamples = 2\\nvalue = [0, 2]'),\n",
       " Text(472.5, 135.89999999999998, 'X[1] <= -0.065\\ngini = 0.245\\nsamples = 7\\nvalue = [6, 1]'),\n",
       " Text(465.75, 105.69999999999999, 'gini = 0.0\\nsamples = 3\\nvalue = [3, 0]'),\n",
       " Text(479.25, 105.69999999999999, 'X[1] <= 0.012\\ngini = 0.375\\nsamples = 4\\nvalue = [3, 1]'),\n",
       " Text(472.5, 75.5, 'gini = 0.0\\nsamples = 1\\nvalue = [0, 1]'),\n",
       " Text(486.0, 75.5, 'gini = 0.0\\nsamples = 3\\nvalue = [3, 0]'),\n",
       " Text(513.0, 166.09999999999997, 'X[1] <= 2.293\\ngini = 0.245\\nsamples = 21\\nvalue = [18, 3]'),\n",
       " Text(499.5, 135.89999999999998, 'X[2] <= -0.391\\ngini = 0.198\\nsamples = 18\\nvalue = [16, 2]'),\n",
       " Text(492.75, 105.69999999999999, 'gini = 0.0\\nsamples = 8\\nvalue = [8, 0]'),\n",
       " Text(506.25, 105.69999999999999, 'X[1] <= 1.177\\ngini = 0.32\\nsamples = 10\\nvalue = [8, 2]'),\n",
       " Text(499.5, 75.5, 'X[1] <= 0.831\\ngini = 0.408\\nsamples = 7\\nvalue = [5, 2]'),\n",
       " Text(492.75, 45.299999999999955, 'X[1] <= 0.408\\ngini = 0.278\\nsamples = 6\\nvalue = [5, 1]'),\n",
       " Text(486.0, 15.100000000000023, 'gini = 0.444\\nsamples = 3\\nvalue = [2, 1]'),\n",
       " Text(499.5, 15.100000000000023, 'gini = 0.0\\nsamples = 3\\nvalue = [3, 0]'),\n",
       " Text(506.25, 45.299999999999955, 'gini = 0.0\\nsamples = 1\\nvalue = [0, 1]'),\n",
       " Text(513.0, 75.5, 'gini = 0.0\\nsamples = 3\\nvalue = [3, 0]'),\n",
       " Text(526.5, 135.89999999999998, 'X[1] <= 2.64\\ngini = 0.444\\nsamples = 3\\nvalue = [2, 1]'),\n",
       " Text(519.75, 105.69999999999999, 'gini = 0.0\\nsamples = 1\\nvalue = [0, 1]'),\n",
       " Text(533.25, 105.69999999999999, 'gini = 0.0\\nsamples = 2\\nvalue = [2, 0]'),\n",
       " Text(459.0, 347.3, 'X[2] <= -0.126\\ngini = 0.038\\nsamples = 51\\nvalue = [50, 1]'),\n",
       " Text(452.25, 317.1, 'gini = 0.0\\nsamples = 35\\nvalue = [35, 0]'),\n",
       " Text(465.75, 317.1, 'X[1] <= 0.292\\ngini = 0.117\\nsamples = 16\\nvalue = [15, 1]'),\n",
       " Text(459.0, 286.9, 'X[1] <= 0.139\\ngini = 0.278\\nsamples = 6\\nvalue = [5, 1]'),\n",
       " Text(452.25, 256.7, 'gini = 0.0\\nsamples = 5\\nvalue = [5, 0]'),\n",
       " Text(465.75, 256.7, 'gini = 0.0\\nsamples = 1\\nvalue = [0, 1]'),\n",
       " Text(472.5, 286.9, 'gini = 0.0\\nsamples = 10\\nvalue = [10, 0]'),\n",
       " Text(543.375, 377.5, 'X[1] <= -0.027\\ngini = 0.291\\nsamples = 34\\nvalue = [28, 6]'),\n",
       " Text(526.5, 347.3, 'X[1] <= -0.073\\ngini = 0.473\\nsamples = 13\\nvalue = [8, 5]'),\n",
       " Text(519.75, 317.1, 'X[2] <= -0.344\\ngini = 0.444\\nsamples = 12\\nvalue = [8, 4]'),\n",
       " Text(506.25, 286.9, 'X[1] <= -0.535\\ngini = 0.346\\nsamples = 9\\nvalue = [7, 2]'),\n",
       " Text(499.5, 256.7, 'X[1] <= -0.939\\ngini = 0.5\\nsamples = 4\\nvalue = [2, 2]'),\n",
       " Text(492.75, 226.5, 'gini = 0.0\\nsamples = 1\\nvalue = [1, 0]'),\n",
       " Text(506.25, 226.5, 'X[2] <= -0.535\\ngini = 0.444\\nsamples = 3\\nvalue = [1, 2]'),\n",
       " Text(499.5, 196.3, 'gini = 0.0\\nsamples = 1\\nvalue = [1, 0]'),\n",
       " Text(513.0, 196.3, 'gini = 0.0\\nsamples = 2\\nvalue = [0, 2]'),\n",
       " Text(513.0, 256.7, 'gini = 0.0\\nsamples = 5\\nvalue = [5, 0]'),\n",
       " Text(533.25, 286.9, 'X[1] <= -1.093\\ngini = 0.444\\nsamples = 3\\nvalue = [1, 2]'),\n",
       " Text(526.5, 256.7, 'gini = 0.0\\nsamples = 1\\nvalue = [1, 0]'),\n",
       " Text(540.0, 256.7, 'gini = 0.0\\nsamples = 2\\nvalue = [0, 2]'),\n",
       " Text(533.25, 317.1, 'gini = 0.0\\nsamples = 1\\nvalue = [0, 1]'),\n",
       " Text(560.25, 347.3, 'X[2] <= -0.496\\ngini = 0.091\\nsamples = 21\\nvalue = [20, 1]'),\n",
       " Text(553.5, 317.1, 'X[2] <= -0.503\\ngini = 0.165\\nsamples = 11\\nvalue = [10, 1]'),\n",
       " Text(546.75, 286.9, 'gini = 0.0\\nsamples = 6\\nvalue = [6, 0]'),\n",
       " Text(560.25, 286.9, 'X[1] <= 0.012\\ngini = 0.32\\nsamples = 5\\nvalue = [4, 1]'),\n",
       " Text(553.5, 256.7, 'gini = 0.375\\nsamples = 4\\nvalue = [3, 1]'),\n",
       " Text(567.0, 256.7, 'gini = 0.0\\nsamples = 1\\nvalue = [1, 0]'),\n",
       " Text(567.0, 317.1, 'gini = 0.0\\nsamples = 10\\nvalue = [10, 0]'),\n",
       " Text(736.59375, 437.9, 'X[2] <= 1.089\\ngini = 0.464\\nsamples = 104\\nvalue = [66, 38]'),\n",
       " Text(676.6875, 407.70000000000005, 'X[6] <= -0.21\\ngini = 0.437\\nsamples = 90\\nvalue = [61, 29]'),\n",
       " Text(631.125, 377.5, 'X[0] <= -0.968\\ngini = 0.308\\nsamples = 42\\nvalue = [34, 8]'),\n",
       " Text(607.5, 347.3, 'X[2] <= 0.541\\ngini = 0.444\\nsamples = 21\\nvalue = [14, 7]'),\n",
       " Text(594.0, 317.1, 'X[2] <= 0.487\\ngini = 0.494\\nsamples = 9\\nvalue = [4, 5]'),\n",
       " Text(587.25, 286.9, 'X[2] <= 0.415\\ngini = 0.49\\nsamples = 7\\nvalue = [4, 3]'),\n",
       " Text(580.5, 256.7, 'X[2] <= 0.404\\ngini = 0.48\\nsamples = 5\\nvalue = [2, 3]'),\n",
       " Text(573.75, 226.5, 'X[1] <= 1.177\\ngini = 0.444\\nsamples = 3\\nvalue = [2, 1]'),\n",
       " Text(567.0, 196.3, 'gini = 0.0\\nsamples = 2\\nvalue = [2, 0]'),\n",
       " Text(580.5, 196.3, 'gini = 0.0\\nsamples = 1\\nvalue = [0, 1]'),\n",
       " Text(587.25, 226.5, 'gini = 0.0\\nsamples = 2\\nvalue = [0, 2]'),\n",
       " Text(594.0, 256.7, 'gini = 0.0\\nsamples = 2\\nvalue = [2, 0]'),\n",
       " Text(600.75, 286.9, 'gini = 0.0\\nsamples = 2\\nvalue = [0, 2]'),\n",
       " Text(621.0, 317.1, 'X[7] <= 0.796\\ngini = 0.278\\nsamples = 12\\nvalue = [10, 2]'),\n",
       " Text(614.25, 286.9, 'gini = 0.0\\nsamples = 8\\nvalue = [8, 0]'),\n",
       " Text(627.75, 286.9, 'X[1] <= 0.639\\ngini = 0.5\\nsamples = 4\\nvalue = [2, 2]'),\n",
       " Text(621.0, 256.7, 'gini = 0.0\\nsamples = 1\\nvalue = [1, 0]'),\n",
       " Text(634.5, 256.7, 'X[1] <= 2.524\\ngini = 0.444\\nsamples = 3\\nvalue = [1, 2]'),\n",
       " Text(627.75, 226.5, 'gini = 0.0\\nsamples = 2\\nvalue = [0, 2]'),\n",
       " Text(641.25, 226.5, 'gini = 0.0\\nsamples = 1\\nvalue = [1, 0]'),\n",
       " Text(654.75, 347.3, 'X[1] <= -1.631\\ngini = 0.091\\nsamples = 21\\nvalue = [20, 1]'),\n",
       " Text(648.0, 317.1, 'X[0] <= 0.229\\ngini = 0.444\\nsamples = 3\\nvalue = [2, 1]'),\n",
       " Text(641.25, 286.9, 'gini = 0.0\\nsamples = 1\\nvalue = [0, 1]'),\n",
       " Text(654.75, 286.9, 'gini = 0.0\\nsamples = 2\\nvalue = [2, 0]'),\n",
       " Text(661.5, 317.1, 'gini = 0.0\\nsamples = 18\\nvalue = [18, 0]'),\n",
       " Text(722.25, 377.5, 'X[1] <= 1.062\\ngini = 0.492\\nsamples = 48\\nvalue = [27, 21]'),\n",
       " Text(681.75, 347.3, 'X[2] <= -0.102\\ngini = 0.495\\nsamples = 29\\nvalue = [13, 16]'),\n",
       " Text(675.0, 317.1, 'gini = 0.0\\nsamples = 3\\nvalue = [0, 3]'),\n",
       " Text(688.5, 317.1, 'X[2] <= -0.07\\ngini = 0.5\\nsamples = 26\\nvalue = [13, 13]'),\n",
       " Text(681.75, 286.9, 'gini = 0.0\\nsamples = 4\\nvalue = [4, 0]'),\n",
       " Text(695.25, 286.9, 'X[2] <= 0.108\\ngini = 0.483\\nsamples = 22\\nvalue = [9, 13]'),\n",
       " Text(681.75, 256.7, 'X[7] <= 0.796\\ngini = 0.32\\nsamples = 10\\nvalue = [2, 8]'),\n",
       " Text(675.0, 226.5, 'X[2] <= -0.039\\ngini = 0.444\\nsamples = 6\\nvalue = [2, 4]'),\n",
       " Text(668.25, 196.3, 'gini = 0.0\\nsamples = 1\\nvalue = [1, 0]'),\n",
       " Text(681.75, 196.3, 'X[2] <= 0.011\\ngini = 0.32\\nsamples = 5\\nvalue = [1, 4]'),\n",
       " Text(675.0, 166.09999999999997, 'gini = 0.0\\nsamples = 2\\nvalue = [0, 2]'),\n",
       " Text(688.5, 166.09999999999997, 'X[2] <= 0.061\\ngini = 0.444\\nsamples = 3\\nvalue = [1, 2]'),\n",
       " Text(681.75, 135.89999999999998, 'gini = 0.0\\nsamples = 1\\nvalue = [1, 0]'),\n",
       " Text(695.25, 135.89999999999998, 'gini = 0.0\\nsamples = 2\\nvalue = [0, 2]'),\n",
       " Text(688.5, 226.5, 'gini = 0.0\\nsamples = 4\\nvalue = [0, 4]'),\n",
       " Text(708.75, 256.7, 'X[2] <= 0.429\\ngini = 0.486\\nsamples = 12\\nvalue = [7, 5]'),\n",
       " Text(702.0, 226.5, 'gini = 0.0\\nsamples = 5\\nvalue = [5, 0]'),\n",
       " Text(715.5, 226.5, 'X[1] <= -0.592\\ngini = 0.408\\nsamples = 7\\nvalue = [2, 5]'),\n",
       " Text(708.75, 196.3, 'gini = 0.0\\nsamples = 1\\nvalue = [1, 0]'),\n",
       " Text(722.25, 196.3, 'X[1] <= -0.065\\ngini = 0.278\\nsamples = 6\\nvalue = [1, 5]'),\n",
       " Text(715.5, 166.09999999999997, 'X[1] <= -0.169\\ngini = 0.444\\nsamples = 3\\nvalue = [1, 2]'),\n",
       " Text(708.75, 135.89999999999998, 'gini = 0.0\\nsamples = 2\\nvalue = [0, 2]'),\n",
       " Text(722.25, 135.89999999999998, 'gini = 0.0\\nsamples = 1\\nvalue = [1, 0]'),\n",
       " Text(729.0, 166.09999999999997, 'gini = 0.0\\nsamples = 3\\nvalue = [0, 3]'),\n",
       " Text(762.75, 347.3, 'X[1] <= 3.525\\ngini = 0.388\\nsamples = 19\\nvalue = [14, 5]'),\n",
       " Text(756.0, 317.1, 'X[2] <= -0.094\\ngini = 0.346\\nsamples = 18\\nvalue = [14, 4]'),\n",
       " Text(742.5, 286.9, 'X[1] <= 1.985\\ngini = 0.49\\nsamples = 7\\nvalue = [4, 3]'),\n",
       " Text(735.75, 256.7, 'X[1] <= 1.293\\ngini = 0.375\\nsamples = 4\\nvalue = [1, 3]'),\n",
       " Text(729.0, 226.5, 'gini = 0.5\\nsamples = 2\\nvalue = [1, 1]'),\n",
       " Text(742.5, 226.5, 'gini = 0.0\\nsamples = 2\\nvalue = [0, 2]'),\n",
       " Text(749.25, 256.7, 'gini = 0.0\\nsamples = 3\\nvalue = [3, 0]'),\n",
       " Text(769.5, 286.9, 'X[9] <= -0.504\\ngini = 0.165\\nsamples = 11\\nvalue = [10, 1]'),\n",
       " Text(762.75, 256.7, 'X[1] <= 2.101\\ngini = 0.375\\nsamples = 4\\nvalue = [3, 1]'),\n",
       " Text(756.0, 226.5, 'X[1] <= 1.639\\ngini = 0.5\\nsamples = 2\\nvalue = [1, 1]'),\n",
       " Text(749.25, 196.3, 'gini = 0.0\\nsamples = 1\\nvalue = [1, 0]'),\n",
       " Text(762.75, 196.3, 'gini = 0.0\\nsamples = 1\\nvalue = [0, 1]'),\n",
       " Text(769.5, 226.5, 'gini = 0.0\\nsamples = 2\\nvalue = [2, 0]'),\n",
       " Text(776.25, 256.7, 'gini = 0.0\\nsamples = 7\\nvalue = [7, 0]'),\n",
       " Text(769.5, 317.1, 'gini = 0.0\\nsamples = 1\\nvalue = [0, 1]'),\n",
       " Text(796.5, 407.70000000000005, 'X[1] <= 0.87\\ngini = 0.459\\nsamples = 14\\nvalue = [5, 9]'),\n",
       " Text(783.0, 377.5, 'X[2] <= 1.925\\ngini = 0.346\\nsamples = 9\\nvalue = [2, 7]'),\n",
       " Text(776.25, 347.3, 'gini = 0.0\\nsamples = 5\\nvalue = [0, 5]'),\n",
       " Text(789.75, 347.3, 'X[1] <= -0.015\\ngini = 0.5\\nsamples = 4\\nvalue = [2, 2]'),\n",
       " Text(783.0, 317.1, 'gini = 0.0\\nsamples = 2\\nvalue = [2, 0]'),\n",
       " Text(796.5, 317.1, 'gini = 0.0\\nsamples = 2\\nvalue = [0, 2]'),\n",
       " Text(810.0, 377.5, 'X[2] <= 1.155\\ngini = 0.48\\nsamples = 5\\nvalue = [3, 2]'),\n",
       " Text(803.25, 347.3, 'gini = 0.0\\nsamples = 1\\nvalue = [0, 1]'),\n",
       " Text(816.75, 347.3, 'X[9] <= -0.504\\ngini = 0.375\\nsamples = 4\\nvalue = [3, 1]'),\n",
       " Text(810.0, 317.1, 'gini = 0.0\\nsamples = 2\\nvalue = [2, 0]'),\n",
       " Text(823.5, 317.1, 'X[2] <= 3.345\\ngini = 0.5\\nsamples = 2\\nvalue = [1, 1]'),\n",
       " Text(816.75, 286.9, 'gini = 0.0\\nsamples = 1\\nvalue = [0, 1]'),\n",
       " Text(830.25, 286.9, 'gini = 0.0\\nsamples = 1\\nvalue = [1, 0]')]"
      ]
     },
     "execution_count": 53,
     "metadata": {},
     "output_type": "execute_result"
    },
    {
     "data": {
      "image/png": "[encoded data removed]",
      "text/plain": [
       "<Figure size 1080x720 with 1 Axes>"
      ]
     },
     "metadata": {
      "needs_background": "light"
     },
     "output_type": "display_data"
    }
   ],
   "source": [
    "plt.figure(figsize=(15,10))\n",
    "tree.plot_tree(clf,filled=True)"
   ]
  },
  {
   "cell_type": "code",
   "execution_count": 54,
   "metadata": {},
   "outputs": [
    {
     "data": {
      "text/plain": [
       "0.9865269461077845"
      ]
     },
     "execution_count": 54,
     "metadata": {},
     "output_type": "execute_result"
    }
   ],
   "source": [
    "clf.score(x_train,y_train)"
   ]
  },
  {
   "cell_type": "code",
   "execution_count": 55,
   "metadata": {},
   "outputs": [],
   "source": [
    "dt_pred = clf.predict(x_test)"
   ]
  },
  {
   "cell_type": "code",
   "execution_count": 56,
   "metadata": {},
   "outputs": [
    {
     "data": {
      "text/plain": [
       "0.7174887892376681"
      ]
     },
     "execution_count": 56,
     "metadata": {},
     "output_type": "execute_result"
    }
   ],
   "source": [
    "# accuracy of our classification tree\n",
    "clf.score(x_test,y_test)"
   ]
  },
  {
   "cell_type": "markdown",
   "metadata": {},
   "source": [
    "### We can infer that our accuracy for the test data is less, So we will proceed with Hyperparameter optimization"
   ]
  },
  {
   "cell_type": "code",
   "execution_count": 57,
   "metadata": {},
   "outputs": [],
   "source": [
    "# we are tuning three hyperparameters right now, we are passing the different values for both parameters\n",
    "grid_param = {\n",
    "    'criterion': ['gini', 'entropy'],\n",
    "    'max_depth' : range(2,32,1),\n",
    "    'min_samples_leaf' : range(1,10,1),\n",
    "    'min_samples_split': range(2,10,1),\n",
    "    'splitter' : ['best', 'random']\n",
    "    \n",
    "}"
   ]
  },
  {
   "cell_type": "code",
   "execution_count": 58,
   "metadata": {},
   "outputs": [],
   "source": [
    "from sklearn.model_selection import GridSearchCV\n",
    "grid_search = GridSearchCV(estimator=clf,\n",
    "                     param_grid=grid_param,\n",
    "                     cv=5,\n",
    "                    n_jobs =-1)"
   ]
  },
  {
   "cell_type": "code",
   "execution_count": 59,
   "metadata": {},
   "outputs": [
    {
     "data": {
      "text/plain": [
       "GridSearchCV(cv=5, estimator=DecisionTreeClassifier(), n_jobs=-1,\n",
       "             param_grid={'criterion': ['gini', 'entropy'],\n",
       "                         'max_depth': range(2, 32),\n",
       "                         'min_samples_leaf': range(1, 10),\n",
       "                         'min_samples_split': range(2, 10),\n",
       "                         'splitter': ['best', 'random']})"
      ]
     },
     "execution_count": 59,
     "metadata": {},
     "output_type": "execute_result"
    }
   ],
   "source": [
    "grid_search.fit(x_train,y_train)"
   ]
  },
  {
   "cell_type": "code",
   "execution_count": 60,
   "metadata": {},
   "outputs": [
    {
     "name": "stdout",
     "output_type": "stream",
     "text": [
      "{'criterion': 'entropy', 'max_depth': 6, 'min_samples_leaf': 7, 'min_samples_split': 8, 'splitter': 'random'}\n"
     ]
    }
   ],
   "source": [
    "best_parameters = grid_search.best_params_\n",
    "print(best_parameters)"
   ]
  },
  {
   "cell_type": "code",
   "execution_count": 61,
   "metadata": {},
   "outputs": [
    {
     "data": {
      "text/plain": [
       "0.8263045673886207"
      ]
     },
     "execution_count": 61,
     "metadata": {},
     "output_type": "execute_result"
    }
   ],
   "source": [
    "grid_search.best_score_"
   ]
  },
  {
   "cell_type": "code",
   "execution_count": 63,
   "metadata": {},
   "outputs": [
    {
     "data": {
      "text/plain": [
       "DecisionTreeClassifier(criterion='entropy', max_depth=6, min_samples_leaf=7,\n",
       "                       min_samples_split=8, splitter='random')"
      ]
     },
     "execution_count": 63,
     "metadata": {},
     "output_type": "execute_result"
    }
   ],
   "source": [
    "clf = DecisionTreeClassifier(criterion ='entropy',max_depth= 6, min_samples_leaf=7,min_samples_split=8,splitter='random')\n",
    "clf.fit(x_train,y_train)"
   ]
  },
  {
   "cell_type": "code",
   "execution_count": 64,
   "metadata": {},
   "outputs": [
    {
     "data": {
      "text/plain": [
       "0.7982062780269058"
      ]
     },
     "execution_count": 64,
     "metadata": {},
     "output_type": "execute_result"
    }
   ],
   "source": [
    "clf.score(x_test,y_test)"
   ]
  },
  {
   "cell_type": "code",
   "execution_count": 66,
   "metadata": {},
   "outputs": [],
   "source": [
    "import pickle\n",
    "\n",
    "with open(r'C:\\Users\\Dell\\Documents\\Notebook Files'+ '/modelForPrediction.sav', 'wb') as f:\n",
    "    pickle.dump(clf,f)"
   ]
  },
  {
   "cell_type": "code",
   "execution_count": 67,
   "metadata": {},
   "outputs": [],
   "source": [
    "y_score1 = clf.predict_proba(x_test)[:,1]\n",
    "y_score2 = log_reg.predict_proba(x_test)[:,1]"
   ]
  },
  {
   "cell_type": "code",
   "execution_count": 68,
   "metadata": {},
   "outputs": [],
   "source": [
    "false_positive_rate1, true_positive_rate1, threshold1 = roc_curve(y_test, y_score1)\n",
    "false_positive_rate2, true_positive_rate2, threshold2 = roc_curve(y_test, y_score2)"
   ]
  },
  {
   "cell_type": "code",
   "execution_count": 71,
   "metadata": {},
   "outputs": [
    {
     "data": {
      "image/png": "[encoded data removed]",
      "text/plain": [
       "<Figure size 720x720 with 1 Axes>"
      ]
     },
     "metadata": {
      "needs_background": "light"
     },
     "output_type": "display_data"
    },
    {
     "name": "stderr",
     "output_type": "stream",
     "text": [
      "No handles with labels found to put in legend.\n"
     ]
    },
    {
     "data": {
      "image/png": "[encoded data removed]",
      "text/plain": [
       "<Figure size 720x720 with 1 Axes>"
      ]
     },
     "metadata": {
      "needs_background": "light"
     },
     "output_type": "display_data"
    }
   ],
   "source": [
    "plt.subplots(1, figsize=(10,10))\n",
    "plt.title('Receiver Operating Characteristic - DecisionTree')\n",
    "plt.plot(false_positive_rate1, true_positive_rate1)\n",
    "plt.plot([0, 1], ls=\"--\")\n",
    "plt.plot([0, 0], [1, 0] , c=\".7\"), plt.plot([1, 1] , c=\".7\")\n",
    "plt.ylabel('True Positive Rate')\n",
    "plt.xlabel('False Positive Rate')\n",
    "plt.show()\n",
    "\n",
    "plt.subplots(1, figsize=(10,10))\n",
    "plt.title('Receiver Operating Characteristic - Logistic regression')\n",
    "plt.plot(false_positive_rate2, true_positive_rate2)\n",
    "plt.plot([0, 1], ls=\"--\")\n",
    "plt.plot([0, 0], [1, 0] , c=\".7\"), plt.plot([1, 1] , c=\".7\")\n",
    "plt.ylabel('True Positive Rate')\n",
    "plt.xlabel('False Positive Rate')\n",
    "plt.show()"
   ]
  },
  {
   "cell_type": "code",
   "execution_count": 72,
   "metadata": {},
   "outputs": [
    {
     "name": "stdout",
     "output_type": "stream",
     "text": [
      "roc_auc_score for DecisionTree:  0.8334659593280282\n",
      "roc_auc_score for Logistic Regression:  0.8275862068965517\n"
     ]
    }
   ],
   "source": [
    "print('roc_auc_score for DecisionTree: ', roc_auc_score(y_test, y_score1))\n",
    "print('roc_auc_score for Logistic Regression: ', roc_auc_score(y_test, y_score2))"
   ]
  },
  {
   "cell_type": "code",
   "execution_count": null,
   "metadata": {},
   "outputs": [],
   "source": []
  }
 ],
 "metadata": {
  "kernelspec": {
   "display_name": "Python 3",
   "language": "python",
   "name": "python3"
  },
  "language_info": {
   "codemirror_mode": {
    "name": "ipython",
    "version": 3
   },
   "file_extension": ".py",
   "mimetype": "text/x-python",
   "name": "python",
   "nbconvert_exporter": "python",
   "pygments_lexer": "ipython3",
   "version": "3.8.5"
  }
 },
 "nbformat": 4,
 "nbformat_minor": 4
}
